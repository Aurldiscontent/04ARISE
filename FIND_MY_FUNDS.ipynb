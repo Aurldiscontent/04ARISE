{
 "cells": [
  {
   "cell_type": "markdown",
   "id": "d2ece769-ca85-4012-ac0c-6e251e19e708",
   "metadata": {},
   "source": [
    "### A) BUIDING THE LLM USING MUTUAL FUND DATA"
   ]
  },
  {
   "cell_type": "markdown",
   "id": "58cc52c3-4859-4ede-9342-07bbceb3d44f",
   "metadata": {},
   "source": [
    "## Importing necessary libraries for data processing, numerical operations, vector similarity search, and sentence embeddings"
   ]
  },
  {
   "cell_type": "code",
   "execution_count": 94,
   "id": "fc2ea27b-da6e-47a3-80ec-3e4628a610d1",
   "metadata": {},
   "outputs": [],
   "source": [
    "import pandas as pd\n",
    "import numpy as np\n",
    "import faiss\n",
    "from sentence_transformers import SentenceTransformer"
   ]
  },
  {
   "cell_type": "markdown",
   "id": "918055e1-2c9b-4333-8d8d-337e6f6a15a1",
   "metadata": {},
   "source": [
    "### Displaying the list of all column names in the DataFrame"
   ]
  },
  {
   "cell_type": "code",
   "execution_count": 22,
   "id": "45266c2f-9df0-412e-beb1-8f520412d04c",
   "metadata": {},
   "outputs": [
    {
     "name": "stdout",
     "output_type": "stream",
     "text": [
      "['schemeCode', 'amfiCode', 'amcCode', 'schemeName', 'typeCode', 'optCode', 'classCode', 'plan', 'etf', 'stp', 'primaryFund', 'primaryFundSchemeCode', 'sip', 'swp', 'switch', 'minimumInvestment', 'multiples', 'incrementalInvestment', 'additionalMultiples', 'status', 'dividendFrequency', 'fundManager1', 'fundManager2', 'fundManager3', 'fundManager4', 'name', 'amfiType', 'dividendOptionFlag', 'lockIn', 'isPurchaseAvailable', 'minRedemptionAmount', 'redemptionMultipleAmount', 'minSwitchAmount', 'switchMultipleAmount', 'inceptionDate', 'lockPeriod', 'securityType', 'foundingYear', 'riskOMeter', 'objective', 'updationDateRatios', 'standardDeviation_Raw', 'sharpeRatio', 'sortinoRatio', 'aum', 'navDate', 'nav', 'price', 'benchmarkIndex', 'indexGroup', 'subGroup', 'benchmarkTier1', 'benchmarkTier2', 'isin', 'series', 'longSchemeDescription', 'shortSchemeDescription', 'schemeStatus', 'flag', 'className', 'assetType', 'category', 'subCategory', 'option', 'type', 'amcName', 'amcSymbol', 'amcWebsite', 'fundManagersInfo', '1DReturns', '5DReturns', '7DReturns', '1MReturns', '3MReturns', '6MReturns', '1YReturns', '2YReturns', '3YReturns', '4YReturns', '5YReturns', '10YReturns', '1YCAGR', '2YCAGR', '3YCAGR', '4YCAGR', '5YCAGR', '10YCAGR', 'standardDeviation', 'volatility', '1YVolatility', '2YVolatility', '3YVolatility', '4YVolatility', '5YVolatility', '10YVolatility', 'rollingReturns', 'maxDrawdowns', 'internalSecurityId', 'directGrowthId', 'assetAllocation', 'sizeExposure', 'totalHoldingPercentage', 'fundPrimarySector', 'expenseRatioDate', 'expenseRatio', 'sectorExposure']\n"
     ]
    }
   ],
   "source": [
    "print(df.columns.tolist())"
   ]
  },
  {
   "cell_type": "markdown",
   "id": "9af58610-4522-4ed2-b772-1f016d75165b",
   "metadata": {},
   "source": [
    "## Load mutual fund data from JSON and create a combined text column for each fund by filling missing values in string columns and concatenating selected attributes into 'full_desc'"
   ]
  },
  {
   "cell_type": "code",
   "execution_count": 26,
   "id": "38e5e8ac-be6e-403a-9b24-f05e28b4fa6b",
   "metadata": {},
   "outputs": [],
   "source": [
    "import pandas as pd\n",
    "\n",
    "# Load the JSON (use lines=True if it's JSON Lines format)\n",
    "df = pd.read_json(\"mutual_funds_data.json\", lines=True)\n",
    "\n",
    "# Fill NaNs only in string-like columns\n",
    "df[df.select_dtypes(include='object').columns] = df.select_dtypes(include='object').fillna('')\n",
    "\n",
    "# Safely convert each column to string before concatenation\n",
    "df['full_desc'] = (\n",
    "    df.get('name', '').astype(str) + \" \" +\n",
    "    df.get('category', '').astype(str) + \" \" +\n",
    "    df.get('fundPrimarySector', '').astype(str) + \" \" +\n",
    "    df.get('amcName', '').astype(str) + \" \" +\n",
    "    df.get('sizeExposure', '').astype(str)  # or 'assetAllocation'\n",
    ")"
   ]
  },
  {
   "cell_type": "markdown",
   "id": "4644ad62-b6d6-4a38-9576-668c66cff7d2",
   "metadata": {},
   "source": [
    "## Display the first few entries of the 'full_desc' column to verify the combined description"
   ]
  },
  {
   "cell_type": "code",
   "execution_count": 28,
   "id": "ece7cc7e-a213-44a0-80d7-369e38920a88",
   "metadata": {},
   "outputs": [
    {
     "name": "stdout",
     "output_type": "stream",
     "text": [
      "0    SBI Fixed Maturity Plan (FMP) - Series 78 (117...\n",
      "1    Aditya Birla Sun Life Fixed Term Plan - Series...\n",
      "2    Aditya Birla Sun Life Fixed Term Plan - Series...\n",
      "3    Tata BSE Select Business Groups Index Fund Oth...\n",
      "4    Union Overnight Fund Debt Schemes  Union Asset...\n",
      "Name: full_desc, dtype: object\n"
     ]
    }
   ],
   "source": [
    "print(df['full_desc'].head())"
   ]
  },
  {
   "cell_type": "markdown",
   "id": "7d210006-1850-4393-af41-68f96409f82a",
   "metadata": {},
   "source": [
    "## Load the pre-trained SentenceTransformer model for encoding text into vector embeddings"
   ]
  },
  {
   "cell_type": "code",
   "execution_count": 35,
   "id": "5b8b7c8f-e061-43b1-90a5-772561559cfe",
   "metadata": {},
   "outputs": [],
   "source": [
    "model = SentenceTransformer(\"sentence-transformers/all-MiniLM-L6-v2\")"
   ]
  },
  {
   "cell_type": "markdown",
   "id": "debbe483-a461-488c-80f1-dae243be4a87",
   "metadata": {},
   "source": [
    "## Generate embeddings for each mutual fund's full description and store them in a list and Encode the description into a vector using the transformer model"
   ]
  },
  {
   "cell_type": "code",
   "execution_count": 43,
   "id": "b11d6192-88ee-47ae-852e-e6232daa0e6b",
   "metadata": {},
   "outputs": [],
   "source": [
    "fund_embeddings = []\n",
    "for text in df['full_desc']:\n",
    "    embedding = model.encode(text)\n",
    "    fund_embeddings.append(embedding)"
   ]
  },
  {
   "cell_type": "markdown",
   "id": "75bbb21b-5892-4f73-89e5-e18f75e66efa",
   "metadata": {},
   "source": [
    "## Import cosine similarity metric for comparing embeddings and Import NumPy for numerical operations"
   ]
  },
  {
   "cell_type": "code",
   "execution_count": 45,
   "id": "3b29a7aa-7c39-4d7f-a27e-b8c1824c4e02",
   "metadata": {},
   "outputs": [],
   "source": [
    "from sklearn.metrics.pairwise import cosine_similarity\n",
    "import numpy as np"
   ]
  },
  {
   "cell_type": "markdown",
   "id": "970ae4d6-f384-4b22-8ceb-2e1fa91050d0",
   "metadata": {},
   "source": [
    "## Encode the user's query into a vector using the sentence transformer model  Compute cosine similarity between the query embedding and all fund embeddings Retrieve the indices of the top_k most similar mutual fundsFetch the corresponding rows from the DataFrame and add similarity scores"
   ]
  },
  {
   "cell_type": "code",
   "execution_count": 47,
   "id": "91eba857-146a-4798-a18d-7ffd9710a2cc",
   "metadata": {},
   "outputs": [],
   "source": [
    "def search_funds(user_query, top_k=5):\n",
    "    # Convert the query into an embedding\n",
    "    query_embedding = model.encode(user_query)\n",
    "\n",
    "    # Calculate cosine similarities between query and all fund embeddings\n",
    "    similarities = cosine_similarity([query_embedding], fund_embeddings)[0]\n",
    "\n",
    "    # Get indices of top_k most similar funds\n",
    "    top_indices = similarities.argsort()[::-1][:top_k]\n",
    "\n",
    "    # Show results\n",
    "    results = df.iloc[top_indices].copy()\n",
    "    results['similarity'] = similarities[top_indices]\n",
    "    return results"
   ]
  },
  {
   "cell_type": "markdown",
   "id": "4a45277b-50e0-4557-b960-c0e9f43df4e3",
   "metadata": {},
   "source": [
    "## Search and Explain Top Matching Mutual Funds Based on User Query"
   ]
  },
  {
   "cell_type": "code",
   "execution_count": 51,
   "id": "1f9fcf1a-5a33-4da4-9308-ff9a4c437c15",
   "metadata": {},
   "outputs": [
    {
     "name": "stdout",
     "output_type": "stream",
     "text": [
      "                                             schemeName  \\\n",
      "1199   HDFC Asset Allocator FoF(IDCW Reinv)-Direct Plan   \n",
      "13266                   HDFC Asset Allocator FoF-Reg(G)   \n",
      "10966       HDFC Asset Allocator FoF-Reg(IDCW Reinvest)   \n",
      "2968         HDFC Asset Allocator FoF(IDCW)-Direct Plan   \n",
      "10814           HDFC Asset Allocator FoF(G)-Direct Plan   \n",
      "\n",
      "                                     amcName category  similarity  \n",
      "1199   HDFC Asset Management Company Limited    Other    0.812278  \n",
      "13266  HDFC Asset Management Company Limited    Other    0.812278  \n",
      "10966  HDFC Asset Management Company Limited    Other    0.812278  \n",
      "2968   HDFC Asset Management Company Limited    Other    0.812278  \n",
      "10814  HDFC Asset Management Company Limited    Other    0.812278  \n",
      "\n",
      "🔍 Match: HDFC Asset Allocator FoF(IDCW Reinv)-Direct Plan (HDFC Asset Management Company Limited)\n",
      "📈 Category: Other, Sub-Category: Fund of Funds (Overseas/ Domestic)\n",
      "💡 Reason: Closely matched your query based on scheme name & metadata.\n",
      "\n",
      "🔍 Match: HDFC Asset Allocator FoF-Reg(G) (HDFC Asset Management Company Limited)\n",
      "📈 Category: Other, Sub-Category: Fund of Funds (Overseas/ Domestic)\n",
      "💡 Reason: Closely matched your query based on scheme name & metadata.\n",
      "\n",
      "🔍 Match: HDFC Asset Allocator FoF-Reg(IDCW Reinvest) (HDFC Asset Management Company Limited)\n",
      "📈 Category: Other, Sub-Category: Fund of Funds (Overseas/ Domestic)\n",
      "💡 Reason: Closely matched your query based on scheme name & metadata.\n",
      "\n",
      "🔍 Match: HDFC Asset Allocator FoF(IDCW)-Direct Plan (HDFC Asset Management Company Limited)\n",
      "📈 Category: Other, Sub-Category: Fund of Funds (Overseas/ Domestic)\n",
      "💡 Reason: Closely matched your query based on scheme name & metadata.\n",
      "\n",
      "🔍 Match: HDFC Asset Allocator FoF(G)-Direct Plan (HDFC Asset Management Company Limited)\n",
      "📈 Category: Other, Sub-Category: Fund of Funds (Overseas/ Domestic)\n",
      "💡 Reason: Closely matched your query based on scheme name & metadata.\n"
     ]
    }
   ],
   "source": [
    "query = \"funds with HDFC holdings\"\n",
    "results = search_funds(query, top_k=5)\n",
    "\n",
    "# Show top results\n",
    "print(results[['schemeName', 'amcName', 'category', 'similarity']])\n",
    "\n",
    "# Explain why\n",
    "for idx, row in results.iterrows():\n",
    "    print(f\"\\n🔍 Match: {row['schemeName']} ({row['amcName']})\")\n",
    "    print(f\"📈 Category: {row['category']}, Sub-Category: {row.get('subCategory', 'N/A')}\")\n",
    "    print(f\"💡 Reason: Closely matched your query based on scheme name & metadata.\")"
   ]
  },
  {
   "cell_type": "markdown",
   "id": "8f23edb2-b8c9-4af8-a009-cead9de62308",
   "metadata": {},
   "source": [
    "## Extract user intents from query text by identifying keywords and mapping them to specific mutual fund attributes for filtering results\n"
   ]
  },
  {
   "cell_type": "code",
   "execution_count": 53,
   "id": "9bf9b966-f125-4f8a-9043-246289216b20",
   "metadata": {},
   "outputs": [],
   "source": [
    "def extract_intents(query):\n",
    "    intents = {}\n",
    "\n",
    "    if 'tax' in query.lower():\n",
    "        intents['subCategory'] = 'ELSS'  # Tax-saving funds\n",
    "    if 'tech' in query.lower():\n",
    "        intents['fundPrimarySector'] = 'Technology'\n",
    "    if 'high return' in query.lower():\n",
    "        intents['1YReturns'] = 'high'\n",
    "    if 'aum' in query.lower() and '1000' in query:\n",
    "        intents['aum'] = 1000\n",
    "\n",
    "    return intents"
   ]
  },
  {
   "cell_type": "markdown",
   "id": "21a04e88-e7e1-41f2-b326-27970a900ad0",
   "metadata": {},
   "source": [
    "## Use regular expressions to detect intent from user query In this case, look for \"tax\" or \"tax saving\" to classify the sub-category as ELSS (Equity Linked Saving Scheme)\n"
   ]
  },
  {
   "cell_type": "code",
   "execution_count": 89,
   "id": "c0610755-03dd-48fc-88ef-cb850107579a",
   "metadata": {},
   "outputs": [
    {
     "name": "stdout",
     "output_type": "stream",
     "text": [
      "{'subCategory': 'ELSS'}\n"
     ]
    }
   ],
   "source": [
    "import re\n",
    "\n",
    "query = \"Tell me about tax saving mutual funds\"\n",
    "intents = {}\n",
    "\n",
    "if re.search(r\"tax( saving)?\", query, re.IGNORECASE):\n",
    "    intents['subCategory'] = 'ELSS'\n",
    "\n",
    "print(intents)"
   ]
  },
  {
   "cell_type": "markdown",
   "id": "97fb0a1b-09bc-4639-bb58-b35b051002b3",
   "metadata": {},
   "source": [
    "## Convert the user query into an embedding using the SentenceTransformer model Compute cosine similarity between the query embedding and all fund embeddings Add similarity scores to the dataframe Extract any additional filtering intents from the user query Apply filters based on extracted intents"
   ]
  },
  {
   "cell_type": "code",
   "execution_count": 55,
   "id": "9bf3422d-7382-446f-84af-a4f89e49e076",
   "metadata": {},
   "outputs": [],
   "source": [
    "def search_funds(query, top_k=5):\n",
    "    query_embedding = model.encode(query)\n",
    "    similarities = cosine_similarity([query_embedding], fund_embeddings)[0]\n",
    "\n",
    "    df['similarity'] = similarities\n",
    "    filtered_df = df.copy()\n",
    "\n",
    "    # Apply intent filters\n",
    "    intents = extract_intents(query)\n",
    "\n",
    "    if 'subCategory' in intents:\n",
    "        filtered_df = filtered_df[filtered_df['subCategory'].str.contains(intents['subCategory'], case=False, na=False)]\n",
    "    if 'fundPrimarySector' in intents:\n",
    "        filtered_df = filtered_df[filtered_df['fundPrimarySector'].str.contains(intents['fundPrimarySector'], case=False, na=False)]\n",
    "    if 'aum' in intents:\n",
    "        filtered_df = filtered_df[filtered_df['aum'].fillna(0).astype(float) > intents['aum']]\n",
    "    if '1YReturns' in intents:\n",
    "        filtered_df = filtered_df[filtered_df['1YReturns'].fillna(0).astype(float) > 10.0]  # threshold for \"high return\"\n",
    "\n",
    "    return filtered_df.sort_values(by='similarity', ascending=False).head(top_k)"
   ]
  },
  {
   "cell_type": "markdown",
   "id": "55d68b9c-27a2-420a-adbf-373ebf203774",
   "metadata": {},
   "source": [
    "## Save the computed fund embeddings to a pickle file for future use and This avoids recomputing embeddings every time the script is run"
   ]
  },
  {
   "cell_type": "code",
   "execution_count": 57,
   "id": "66b1ee7e-1c15-4612-b099-5808b2b4d084",
   "metadata": {},
   "outputs": [],
   "source": [
    "import pickle\n",
    "\n",
    "with open(\"fund_embeddings.pkl\", \"wb\") as f:\n",
    "    pickle.dump(fund_embeddings, f)"
   ]
  },
  {
   "cell_type": "markdown",
   "id": "b9c49e8f-8aff-49c7-a968-a7bd65e1eeed",
   "metadata": {},
   "source": [
    "## Load the precomputed fund embeddings from the pickle file and This speeds up execution by avoiding re-encoding of fund descriptions"
   ]
  },
  {
   "cell_type": "code",
   "execution_count": 59,
   "id": "884c44e9-eb5c-46aa-a0f7-c763e695d3bb",
   "metadata": {},
   "outputs": [],
   "source": [
    "with open(\"fund_embeddings.pkl\", \"rb\") as f:\n",
    "    fund_embeddings = pickle.load(f)"
   ]
  },
  {
   "cell_type": "markdown",
   "id": "743a4af5-69fc-40fe-aae8-81ebd4da5617",
   "metadata": {},
   "source": [
    "## Build and use a FAISS index for efficient similarity search over fund embeddings."
   ]
  },
  {
   "cell_type": "code",
   "execution_count": 61,
   "id": "34532b7c-e266-4124-bc45-2fde7d92a69c",
   "metadata": {},
   "outputs": [],
   "source": [
    "import faiss\n",
    "\n",
    "# Convert to numpy array\n",
    "fund_embeddings_np = np.array(fund_embeddings).astype('float32')\n",
    "\n",
    "# Index\n",
    "index = faiss.IndexFlatL2(fund_embeddings_np.shape[1])\n",
    "index.add(fund_embeddings_np)\n",
    "\n",
    "# Search function update\n",
    "def search_funds(query, top_k=5):\n",
    "    query_embedding = model.encode(query).astype('float32').reshape(1, -1)\n",
    "    distances, indices = index.search(query_embedding, top_k)\n",
    "    results = df.iloc[indices[0]].copy()\n",
    "    results['distance'] = distances[0]\n",
    "    return results"
   ]
  },
  {
   "cell_type": "markdown",
   "id": "ef77885b-326c-4866-b9f9-83d1e7da8723",
   "metadata": {},
   "source": [
    "## Example: basic rule-based intent extraction from a query to filter relevant mutual fund attributes."
   ]
  },
  {
   "cell_type": "code",
   "execution_count": 69,
   "id": "5781466b-25a4-47e9-9969-93566fa7c6ae",
   "metadata": {},
   "outputs": [],
   "source": [
    "# Example: simple intent extraction from a user query\n",
    "query = \"I want to invest in infrastructure funds with good 1Y returns\"\n",
    "\n",
    "intents = {}\n",
    "if 'infrastructure' in query.lower():\n",
    "    intents['fundPrimarySector'] = 'Infrastructure'\n",
    "if '1y return' in query.lower() or '1 year return' in query.lower():\n",
    "    intents['1YReturns'] = 10.0  # example threshold\n",
    "if 'elss' in query.lower():\n",
    "    intents['subCategory'] = 'ELSS'"
   ]
  },
  {
   "cell_type": "markdown",
   "id": "f22e7464-179d-4f5a-a7cd-865532706971",
   "metadata": {},
   "source": [
    "## Set the number of top results to retrieve and sort the results by relevance score in descending order."
   ]
  },
  {
   "cell_type": "code",
   "execution_count": 73,
   "id": "88432c94-c870-4fda-9155-9320f8f32098",
   "metadata": {},
   "outputs": [],
   "source": [
    "# Set how many top results you want\n",
    "top_k = 5  # top 5 results\n",
    "\n",
    "# Sort and get top_k\n",
    "results = results.sort_values(by='score', ascending=False).head(top_k)"
   ]
  },
  {
   "cell_type": "markdown",
   "id": "b0d8ce4f-35f7-43f5-952f-dcd5fe62f80d",
   "metadata": {},
   "source": [
    "## Extract intents from the user query and apply metadata-based boosts to improve result ranking, then compute final score as a combination of similarity and metadata match."
   ]
  },
  {
   "cell_type": "code",
   "execution_count": 75,
   "id": "785424a2-93ce-4467-9a94-43955642dfa9",
   "metadata": {},
   "outputs": [],
   "source": [
    "# Step 1: Extract intents from query\n",
    "query = \"High return infra ELSS funds\"\n",
    "intents = {}\n",
    "\n",
    "if 'infra' in query.lower():\n",
    "    intents['fundPrimarySector'] = 'Infrastructure'\n",
    "if 'elss' in query.lower():\n",
    "    intents['subCategory'] = 'ELSS'\n",
    "if 'high return' in query.lower():\n",
    "    intents['1YReturns'] = 10.0  # Adjust threshold as needed\n",
    "\n",
    "# Step 2: Compute metadata-based boost\n",
    "results['meta_boost'] = 0\n",
    "\n",
    "if 'subCategory' in intents:\n",
    "    results['meta_boost'] += results['subCategory'].str.contains(intents['subCategory'], case=False, na=False).astype(int) * 0.05\n",
    "if 'fundPrimarySector' in intents:\n",
    "    results['meta_boost'] += results['fundPrimarySector'].str.contains(intents['fundPrimarySector'], case=False, na=False).astype(int) * 0.05\n",
    "if '1YReturns' in intents:\n",
    "    results['meta_boost'] += (results['1YReturns'].fillna(0).astype(float) > intents['1YReturns']).astype(int) * 0.05\n",
    "\n",
    "# Step 3: Final score = similarity + boost\n",
    "results['score'] = results['similarity'] + results['meta_boost']\n",
    "results = results.sort_values(by='score', ascending=False).head(top_k)"
   ]
  },
  {
   "cell_type": "markdown",
   "id": "751cd8eb-8e40-4265-a65a-5d238fa331ba",
   "metadata": {},
   "source": [
    "## Define intent filters based on user query to refine mutual fund search results."
   ]
  },
  {
   "cell_type": "code",
   "execution_count": 79,
   "id": "d38753bd-3132-4e97-9515-29cd8645abf2",
   "metadata": {},
   "outputs": [],
   "source": [
    "intents = {\n",
    "    'subCategory': 'tax saver',\n",
    "    'category': 'equity',\n",
    "    'sector': 'tech',\n",
    "    'aum_greater_than': 1000  # in crores\n",
    "}"
   ]
  },
  {
   "cell_type": "code",
   "execution_count": 77,
   "id": "15304913-255e-427c-b39f-5c8778e1ee82",
   "metadata": {},
   "outputs": [],
   "source": [
    "results['meta_boost'] = 0  # Reset boost\n",
    "\n",
    "# Boost by subCategory match\n",
    "if 'subCategory' in intents:\n",
    "    results['meta_boost'] += (\n",
    "        results['subCategory'].str.contains(intents['subCategory'], case=False, na=False).astype(int) * 0.05\n",
    "    )\n",
    "\n",
    "# Boost by category match\n",
    "if 'category' in intents:\n",
    "    results['meta_boost'] += (\n",
    "        results['category'].str.contains(intents['category'], case=False, na=False).astype(int) * 0.05\n",
    "    )\n",
    "\n",
    "# Boost by sectorExposure (if available and parsed from user input)\n",
    "if 'sector' in intents:\n",
    "    results['meta_boost'] += (\n",
    "        results['sectorExposure'].str.contains(intents['sector'], case=False, na=False).astype(int) * 0.05\n",
    "    )\n",
    "\n",
    "# Boost by AUM threshold\n",
    "if 'aum_greater_than' in intents:\n",
    "    # Ensure 'aum' column is numeric\n",
    "    results['aum'] = pd.to_numeric(results['aum'], errors='coerce')\n",
    "    results['meta_boost'] += (\n",
    "        (results['aum'] > intents['aum_greater_than']).astype(int) * 0.1\n",
    "    )\n",
    "\n",
    "# Final score = similarity + metadata-based boost\n",
    "results['score'] = results['similarity'] + results['meta_boost']"
   ]
  },
  {
   "cell_type": "markdown",
   "id": "7e3c734c-199a-431d-ae37-75f4ea4f7a97",
   "metadata": {},
   "source": [
    "## Enhances fund recommendation scores by applying metadata-based intent boosts (e.g., subcategory, category, sector, and AUM) on top of similarity"
   ]
  },
  {
   "cell_type": "code",
   "execution_count": 81,
   "id": "6d16a33a-5be9-41f2-9cf1-b2df6d11305e",
   "metadata": {},
   "outputs": [
    {
     "data": {
      "text/html": [
       "<div>\n",
       "<style scoped>\n",
       "    .dataframe tbody tr th:only-of-type {\n",
       "        vertical-align: middle;\n",
       "    }\n",
       "\n",
       "    .dataframe tbody tr th {\n",
       "        vertical-align: top;\n",
       "    }\n",
       "\n",
       "    .dataframe thead th {\n",
       "        text-align: right;\n",
       "    }\n",
       "</style>\n",
       "<table border=\"1\" class=\"dataframe\">\n",
       "  <thead>\n",
       "    <tr style=\"text-align: right;\">\n",
       "      <th></th>\n",
       "      <th>schemeName</th>\n",
       "      <th>category</th>\n",
       "      <th>subCategory</th>\n",
       "      <th>sectorExposure</th>\n",
       "      <th>aum</th>\n",
       "      <th>similarity</th>\n",
       "      <th>meta_boost</th>\n",
       "      <th>score</th>\n",
       "    </tr>\n",
       "  </thead>\n",
       "  <tbody>\n",
       "    <tr>\n",
       "      <th>1199</th>\n",
       "      <td>HDFC Asset Allocator FoF(IDCW Reinv)-Direct Plan</td>\n",
       "      <td>Other</td>\n",
       "      <td>Fund of Funds (Overseas/ Domestic)</td>\n",
       "      <td></td>\n",
       "      <td>3683.29</td>\n",
       "      <td>0.812278</td>\n",
       "      <td>0.0</td>\n",
       "      <td>0.812278</td>\n",
       "    </tr>\n",
       "    <tr>\n",
       "      <th>13266</th>\n",
       "      <td>HDFC Asset Allocator FoF-Reg(G)</td>\n",
       "      <td>Other</td>\n",
       "      <td>Fund of Funds (Overseas/ Domestic)</td>\n",
       "      <td></td>\n",
       "      <td>3683.29</td>\n",
       "      <td>0.812278</td>\n",
       "      <td>0.0</td>\n",
       "      <td>0.812278</td>\n",
       "    </tr>\n",
       "    <tr>\n",
       "      <th>10966</th>\n",
       "      <td>HDFC Asset Allocator FoF-Reg(IDCW Reinvest)</td>\n",
       "      <td>Other</td>\n",
       "      <td>Fund of Funds (Overseas/ Domestic)</td>\n",
       "      <td></td>\n",
       "      <td>3683.29</td>\n",
       "      <td>0.812278</td>\n",
       "      <td>0.0</td>\n",
       "      <td>0.812278</td>\n",
       "    </tr>\n",
       "    <tr>\n",
       "      <th>2968</th>\n",
       "      <td>HDFC Asset Allocator FoF(IDCW)-Direct Plan</td>\n",
       "      <td>Other</td>\n",
       "      <td>Fund of Funds (Overseas/ Domestic)</td>\n",
       "      <td></td>\n",
       "      <td>3683.29</td>\n",
       "      <td>0.812278</td>\n",
       "      <td>0.0</td>\n",
       "      <td>0.812278</td>\n",
       "    </tr>\n",
       "    <tr>\n",
       "      <th>10814</th>\n",
       "      <td>HDFC Asset Allocator FoF(G)-Direct Plan</td>\n",
       "      <td>Other</td>\n",
       "      <td>Fund of Funds (Overseas/ Domestic)</td>\n",
       "      <td></td>\n",
       "      <td>3683.29</td>\n",
       "      <td>0.812278</td>\n",
       "      <td>0.0</td>\n",
       "      <td>0.812278</td>\n",
       "    </tr>\n",
       "  </tbody>\n",
       "</table>\n",
       "</div>"
      ],
      "text/plain": [
       "                                             schemeName category  \\\n",
       "1199   HDFC Asset Allocator FoF(IDCW Reinv)-Direct Plan    Other   \n",
       "13266                   HDFC Asset Allocator FoF-Reg(G)    Other   \n",
       "10966       HDFC Asset Allocator FoF-Reg(IDCW Reinvest)    Other   \n",
       "2968         HDFC Asset Allocator FoF(IDCW)-Direct Plan    Other   \n",
       "10814           HDFC Asset Allocator FoF(G)-Direct Plan    Other   \n",
       "\n",
       "                              subCategory sectorExposure      aum  similarity  \\\n",
       "1199   Fund of Funds (Overseas/ Domestic)                 3683.29    0.812278   \n",
       "13266  Fund of Funds (Overseas/ Domestic)                 3683.29    0.812278   \n",
       "10966  Fund of Funds (Overseas/ Domestic)                 3683.29    0.812278   \n",
       "2968   Fund of Funds (Overseas/ Domestic)                 3683.29    0.812278   \n",
       "10814  Fund of Funds (Overseas/ Domestic)                 3683.29    0.812278   \n",
       "\n",
       "       meta_boost     score  \n",
       "1199          0.0  0.812278  \n",
       "13266         0.0  0.812278  \n",
       "10966         0.0  0.812278  \n",
       "2968          0.0  0.812278  \n",
       "10814         0.0  0.812278  "
      ]
     },
     "execution_count": 81,
     "metadata": {},
     "output_type": "execute_result"
    }
   ],
   "source": [
    "top_k = 5  # or any number you prefer\n",
    "\n",
    "display_columns = [\n",
    "    'schemeName', 'category', 'subCategory', 'sectorExposure',\n",
    "    'aum', 'similarity', 'meta_boost', 'score'\n",
    "]\n",
    "\n",
    "# Sort and show top matches\n",
    "top_results = results.sort_values(by='score', ascending=False).head(top_k)\n",
    "top_results[display_columns]"
   ]
  },
  {
   "cell_type": "markdown",
   "id": "1ec13a75-2798-4dbe-a406-09ece2fb9b60",
   "metadata": {},
   "source": [
    "## Displays detailed information for each top matching fund, including category, sector, AUM, and scoring breakdown (similarity, metadata boost, and final score)"
   ]
  },
  {
   "cell_type": "code",
   "execution_count": 83,
   "id": "5408d7c3-9e2e-4ee7-b23a-7bda3bf2db7f",
   "metadata": {},
   "outputs": [
    {
     "name": "stdout",
     "output_type": "stream",
     "text": [
      "\n",
      "📌 Fund: HDFC Asset Allocator FoF(IDCW Reinv)-Direct Plan\n",
      "    Category: Other | SubCategory: Fund of Funds (Overseas/ Domestic)\n",
      "    Sector: \n",
      "    AUM: ₹3683.29 Cr\n",
      "    Similarity Score: 0.812\n",
      "    Metadata Boost: 0.000\n",
      "    ✅ Final Score: 0.812\n",
      "\n",
      "📌 Fund: HDFC Asset Allocator FoF-Reg(G)\n",
      "    Category: Other | SubCategory: Fund of Funds (Overseas/ Domestic)\n",
      "    Sector: \n",
      "    AUM: ₹3683.29 Cr\n",
      "    Similarity Score: 0.812\n",
      "    Metadata Boost: 0.000\n",
      "    ✅ Final Score: 0.812\n",
      "\n",
      "📌 Fund: HDFC Asset Allocator FoF-Reg(IDCW Reinvest)\n",
      "    Category: Other | SubCategory: Fund of Funds (Overseas/ Domestic)\n",
      "    Sector: \n",
      "    AUM: ₹3683.29 Cr\n",
      "    Similarity Score: 0.812\n",
      "    Metadata Boost: 0.000\n",
      "    ✅ Final Score: 0.812\n",
      "\n",
      "📌 Fund: HDFC Asset Allocator FoF(IDCW)-Direct Plan\n",
      "    Category: Other | SubCategory: Fund of Funds (Overseas/ Domestic)\n",
      "    Sector: \n",
      "    AUM: ₹3683.29 Cr\n",
      "    Similarity Score: 0.812\n",
      "    Metadata Boost: 0.000\n",
      "    ✅ Final Score: 0.812\n",
      "\n",
      "📌 Fund: HDFC Asset Allocator FoF(G)-Direct Plan\n",
      "    Category: Other | SubCategory: Fund of Funds (Overseas/ Domestic)\n",
      "    Sector: \n",
      "    AUM: ₹3683.29 Cr\n",
      "    Similarity Score: 0.812\n",
      "    Metadata Boost: 0.000\n",
      "    ✅ Final Score: 0.812\n"
     ]
    }
   ],
   "source": [
    "for idx, row in top_results.iterrows():\n",
    "    print(f\"\\n📌 Fund: {row['schemeName']}\")\n",
    "    print(f\"    Category: {row['category']} | SubCategory: {row['subCategory']}\")\n",
    "    print(f\"    Sector: {row['sectorExposure']}\")\n",
    "    print(f\"    AUM: ₹{row['aum']} Cr\")\n",
    "    print(f\"    Similarity Score: {row['similarity']:.3f}\")\n",
    "    print(f\"    Metadata Boost: {row['meta_boost']:.3f}\")\n",
    "    print(f\"    ✅ Final Score: {row['score']:.3f}\")"
   ]
  },
  {
   "cell_type": "code",
   "execution_count": 196,
   "id": "16551251-5e53-45b0-ac15-4fab584e56c4",
   "metadata": {},
   "outputs": [
    {
     "name": "stdout",
     "output_type": "stream",
     "text": [
      "Accuracy: 0.99\n",
      "\n",
      " Confusion Matrix:\n",
      "[[ 32   0   4   0   0]\n",
      " [  0 666   0   2   0]\n",
      " [  0   0 450   3   3]\n",
      " [  0   2   0 216   0]\n",
      " [  0   3   4   0 184]]\n",
      "\n",
      " Classification Report:\n",
      "                precision    recall  f1-score   support\n",
      "\n",
      "                     1.00      0.89      0.94        36\n",
      "  Debt Schemes       0.99      1.00      0.99       668\n",
      "Equity Schemes       0.98      0.99      0.98       456\n",
      "Hybrid Schemes       0.98      0.99      0.98       218\n",
      "         Other       0.98      0.96      0.97       191\n",
      "\n",
      "      accuracy                           0.99      1569\n",
      "     macro avg       0.99      0.97      0.98      1569\n",
      "  weighted avg       0.99      0.99      0.99      1569\n",
      "\n"
     ]
    }
   ],
   "source": [
    "import pandas as pd\n",
    "from sklearn.model_selection import train_test_split\n",
    "from sklearn.preprocessing import LabelEncoder\n",
    "from sklearn.ensemble import RandomForestClassifier\n",
    "from sklearn.metrics import accuracy_score, confusion_matrix, classification_report\n",
    "\n",
    "df = pd.read_json(\"mutual_funds_data.json\", lines=True)\n",
    "\n",
    "# Drop missing target\n",
    "df = df.dropna(subset=['category'])\n",
    "\n",
    "# Encode target\n",
    "le = LabelEncoder()\n",
    "df['category_encoded'] = le.fit_transform(df['category'])\n",
    "\n",
    "# Select features\n",
    "features = [\n",
    "    'aum', 'expenseRatio', 'standardDeviation_Raw', \n",
    "    'sharpeRatio', 'sortinoRatio', '1YReturns', \n",
    "    '3YReturns', '5YReturns'\n",
    "]\n",
    "\n",
    "# Drop rows with missing feature values\n",
    "df = df.dropna(subset=features)\n",
    "\n",
    "# Define X and y\n",
    "X = df[features]\n",
    "y = df['category_encoded']\n",
    "\n",
    "# Train-test split\n",
    "X_train, X_test, y_train, y_test = train_test_split(X, y, test_size=0.2, random_state=42)\n",
    "\n",
    "# Train model\n",
    "model = RandomForestClassifier()\n",
    "model.fit(X_train, y_train)\n",
    "\n",
    "# Predict\n",
    "y_pred = model.predict(X_test)\n",
    "\n",
    "# Evaluate\n",
    "acc = accuracy_score(y_test, y_pred)\n",
    "cm = confusion_matrix(y_test, y_pred)\n",
    "report = classification_report(y_test, y_pred, target_names=le.classes_)\n",
    "\n",
    "print(f\"Accuracy: {acc:.2f}\")\n",
    "print(\"\\n Confusion Matrix:\")\n",
    "print(cm)\n",
    "print(\"\\n Classification Report:\")\n",
    "print(report)"
   ]
  },
  {
   "cell_type": "code",
   "execution_count": 198,
   "id": "8134bc38-9476-4ac7-9c32-dea3d39ddbc9",
   "metadata": {},
   "outputs": [
    {
     "data": {
      "image/png": "[encoded data removed]",
      "text/plain": [
       "<Figure size 1000x800 with 2 Axes>"
      ]
     },
     "metadata": {},
     "output_type": "display_data"
    }
   ],
   "source": [
    "import seaborn as sns\n",
    "import matplotlib.pyplot as plt\n",
    "from sklearn.metrics import confusion_matrix\n",
    "\n",
    "# Generate confusion matrix\n",
    "cm = confusion_matrix(y_test, y_pred)\n",
    "\n",
    "# Create heatmap\n",
    "plt.figure(figsize=(10, 8))\n",
    "sns.heatmap(cm, annot=True, fmt='d', cmap='YlGnBu', \n",
    "            xticklabels=le.classes_, \n",
    "            yticklabels=le.classes_)\n",
    "\n",
    "plt.title(\"Confusion Matrix Heatmap\")\n",
    "plt.xlabel(\"Predicted Category\")\n",
    "plt.ylabel(\"True Category\")\n",
    "plt.xticks(rotation=45)\n",
    "plt.yticks(rotation=45)\n",
    "plt.tight_layout()\n",
    "plt.show()"
   ]
  },
  {
   "cell_type": "markdown",
   "id": "af9eb293-0273-43c1-938e-662c3b19e02b",
   "metadata": {},
   "source": [
    "## B) BUILDING THE LLM MODEL USING STOCK DATA "
   ]
  },
  {
   "cell_type": "markdown",
   "id": "1b949c23-e8a1-4b36-be3e-abc2292a1baf",
   "metadata": {},
   "source": [
    "## Load and Prepare the Stock Data"
   ]
  },
  {
   "cell_type": "code",
   "execution_count": 140,
   "id": "29298327-458b-4655-96f0-c2b7af7f1971",
   "metadata": {},
   "outputs": [],
   "source": [
    "import pandas as pd\n",
    "import numpy as np\n",
    "import pickle\n",
    "import faiss\n",
    "from sentence_transformers import SentenceTransformer\n",
    "\n",
    "stock_df = pd.read_json(\"stock_data (1).json\", lines=True)\n",
    "\n",
    "text_columns = stock_df.select_dtypes(include='object').columns\n",
    "stock_df[text_columns] = stock_df[text_columns].fillna('')\n",
    "desc_columns = ['companyName', 'sector', 'industry', 'description', 'exchange']\n",
    "\n",
    "# Ensure all desc_columns exist\n",
    "for col in desc_columns:\n",
    "    if col not in stock_df.columns:\n",
    "        stock_df[col] = ''\n",
    "stock_df['full_desc'] = stock_df[desc_columns].astype(str).agg(' '.join, axis=1)"
   ]
  },
  {
   "cell_type": "markdown",
   "id": "e85e8e07-eb80-41a7-bd8d-2624dcf138b7",
   "metadata": {},
   "source": [
    "## Import tqdm for displaying a progress bar Convert the 'full_desc' column of the DataFrame into a list of text string and Loop through each text in the list and generate embeddings using the model with tqdm adds a progress bar so you can see how many have been processed."
   ]
  },
  {
   "cell_type": "code",
   "execution_count": 149,
   "id": "1c9a5641-2e5c-4ff0-a707-eda39367ccc5",
   "metadata": {},
   "outputs": [
    {
     "name": "stderr",
     "output_type": "stream",
     "text": [
      "100%|██████████████████████████████████████████████████████████████████████████████| 6136/6136 [01:22<00:00, 74.10it/s]\n"
     ]
    }
   ],
   "source": [
    "from tqdm import tqdm\n",
    "\n",
    "texts = stock_df['full_desc'].tolist()\n",
    "stock_embeddings = [model.encode(text) for text in tqdm(texts)]"
   ]
  },
  {
   "cell_type": "markdown",
   "id": "ec8da0db-f998-4eaa-a0e6-1aa36d1f7be3",
   "metadata": {},
   "source": [
    "## Store embeddings back into the DataFrame"
   ]
  },
  {
   "cell_type": "code",
   "execution_count": 160,
   "id": "8d7c476f-969f-4da6-a026-af78bc41c684",
   "metadata": {},
   "outputs": [],
   "source": [
    "import numpy as np\n",
    "stock_df['embedding'] = stock_embeddings"
   ]
  },
  {
   "cell_type": "code",
   "execution_count": 162,
   "id": "5374da65-9000-4f8e-839f-8ed2a7794fba",
   "metadata": {},
   "outputs": [],
   "source": [
    "with open(\"stock_embeddings.pkl\", \"wb\") as f:\n",
    "    pickle.dump(stock_embeddings, f)"
   ]
  },
  {
   "cell_type": "markdown",
   "id": "c78c15b8-c715-487f-b06a-cea1514ce06a",
   "metadata": {},
   "source": [
    "## FAISS Indexing"
   ]
  },
  {
   "cell_type": "code",
   "execution_count": 166,
   "id": "3278f9ce-6055-46e9-b05f-e2abe8dd5308",
   "metadata": {},
   "outputs": [],
   "source": [
    "stock_embeddings_np = np.array(stock_embeddings).astype('float32')\n",
    "index = faiss.IndexFlatL2(stock_embeddings_np.shape[1])\n",
    "index.add(stock_embeddings_np)"
   ]
  },
  {
   "cell_type": "markdown",
   "id": "aff66cd4-d9fa-48bc-bd70-e3fea2898373",
   "metadata": {},
   "source": [
    "## Search Function"
   ]
  },
  {
   "cell_type": "code",
   "execution_count": 233,
   "id": "4bfd9dbf-2d14-495c-a459-f1ae3103b30c",
   "metadata": {},
   "outputs": [],
   "source": [
    "def search_companies(data, query):\n",
    "    query_lower = query.lower()\n",
    "    results = []\n",
    "    for company in data:\n",
    "        if (query_lower in str(company.get(\"name\", \"\")).lower() or\n",
    "            query_lower in str(company.get(\"industry\", \"\")).lower() or\n",
    "            query_lower in str(company.get(\"sector\", \"\")).lower()):\n",
    "            results.append(company)\n",
    "    return results"
   ]
  },
  {
   "cell_type": "code",
   "execution_count": 239,
   "id": "2f011f7c-9412-4d15-9e58-664e09c8e498",
   "metadata": {},
   "outputs": [],
   "source": [
    "def search_companies(data, query):\n",
    "    return [company for company in data if query.lower() in company[\"industry\"].lower()]"
   ]
  },
  {
   "cell_type": "code",
   "execution_count": 243,
   "id": "4af091ad-75eb-42f6-a7c0-6a59048b1226",
   "metadata": {},
   "outputs": [],
   "source": [
    "stocks_data = [\n",
    "    {\"name\": \"Aditya Birla Capital Ltd.\", \"industry\": \"Finance\"},\n",
    "    {\"name\": \"Arvind Ltd.\", \"industry\": \"Textile\"},\n",
    "    {\"name\": \"Welspun India Ltd.\", \"industry\": \"Textile\"},\n",
    "    {\"name\": \"ITC Ltd.\", \"industry\": \"FMCG\"},\n",
    "    {\"name\": \"Raymond Ltd.\", \"industry\": \"Textile\"}\n",
    "]"
   ]
  },
  {
   "cell_type": "code",
   "execution_count": 245,
   "id": "eb47c502-0db7-4d50-bc5a-137994b2edf1",
   "metadata": {},
   "outputs": [
    {
     "name": "stdout",
     "output_type": "stream",
     "text": [
      "Arvind Ltd. - Textile\n",
      "Welspun India Ltd. - Textile\n",
      "Raymond Ltd. - Textile\n"
     ]
    }
   ],
   "source": [
    "query = \"textile\"\n",
    "matches = search_companies(stocks_data, query)\n",
    "\n",
    "for match in matches:\n",
    "    print(match[\"name\"], \"-\", match[\"industry\"])"
   ]
  },
  {
   "cell_type": "markdown",
   "id": "357aa9db-1c47-4b97-b04d-591e151cf029",
   "metadata": {},
   "source": [
    "## Example Usage"
   ]
  },
  {
   "cell_type": "code",
   "execution_count": 176,
   "id": "4095415f-4a2d-4565-bc7f-445170ae1d01",
   "metadata": {},
   "outputs": [
    {
     "name": "stdout",
     "output_type": "stream",
     "text": [
      "                       name                                          full_desc\n",
      "0                JCOPOCRPS1  JCOPOCRPS1 Materials Unspecified Jhagadia Copp...\n",
      "1       Sahaj Fashions Ltd.  Sahaj Fashions Ltd. Consumer Discretionary Tex...\n",
      "2  Associated Ceramics Ltd.  Associated Ceramics Ltd. Materials Refractorie...\n"
     ]
    }
   ],
   "source": [
    "import pandas as pd\n",
    "import json\n",
    "import warnings\n",
    "warnings.filterwarnings('ignore')\n",
    "\n",
    "# Sample JSON data as string (in real usage, you'd read from a file)\n",
    "json_data = '''\n",
    "[\n",
    "    {\"finCode\": 233727, \"bseScripCode\": 710045, \"bseScripName\": \"JCOPOCRPS1\", \"bseScripGroup\": null, \"name\": \"JCOPOCRPS1\", \"industryCode\": 113, \"industry\": \"Unspecified\", \"hseCode\": 206, \"ticker\": null, \"nseSeries\": null, \"isin\": \"INE666A03065\", \"shortName\": \"JCOPOCRPS1\", \"incMonth\": \"-\", \"incYear\": null, \"status\": \"Preference\", \"sublisting\": null, \"bseScripId\": \"JCOPOCRPS1\", \"bseSublisting\": null, \"nseSublisting\": null, \"flag\": \"A\", \"securityType\": \"EQUITIES\", \"internalSecurityId\": 2599172046, \"sector\": \"Materials\", \"sectorExposure\": {\"Materials\": 100.0}, \"category\": \"Others\", \"sizeExposure\": {\"Others\": 100.0}, \"assetAllocation\": {\"equity\": 100.0}, \"companyDescription\": \"Jhagadia Copper Limited manufactures copper cathodes, alloy wires, rods, bearing materials, and other related products.\"},\n",
    "    {\"finCode\": 292072, \"bseScripCode\": null, \"bseScripName\": null, \"bseScripGroup\": null, \"name\": \"Sahaj Fashions Ltd.\", \"industryCode\": 98, \"industry\": \"Textile\", \"hseCode\": 206, \"ticker\": \"SAHAJ\", \"nseSeries\": \"ST\", \"isin\": \"INE013901017\", \"shortName\": \"Sahaj Fashions\", \"incMonth\": \"20-05\", \"incYear\": 2011, \"status\": \"Active\", \"sublisting\": \"Active\", \"bseScripId\": null, \"bseSublisting\": null, \"nseSublisting\": \"Active\", \"flag\": \"A\", \"securityType\": \"EQUITIES\", \"inceptionDate\": \"2011-05-20\", \"foundingYear\": \"2011\", \"price\": 8.45, \"marketCap\": 11.13, \"dividendYield\": 0, \"faceValue\": 10, \"ttmpe\": 11.7884, \"priceToBook\": 0.3293, \"navDate\": \"2025-04-08\", \"priceExchange\": \"NSE\", \"yearEnd\": 202403, \"roa\": 1.19461959231819, \"roe\": 3.52011695186737, \"debtToEquity\": 1.0706, \"dividendPerShare\": 0, \"adjustedPE\": 26.9949776785714, \"1DReturns\": 4.968944099378869, \"5DReturns\": 14.965986394557795, \"7DReturns\": 20.714285714285687, \"1MReturns\": -14.646464646464663, \"3MReturns\": -43.666666666666664, \"6MReturns\": -43.0976430976431, \"1YReturns\": -66.73228346456693, \"2YReturns\": null, \"3YReturns\": null, \"4YReturns\": null, \"5YReturns\": null, \"10YReturns\": null, \"1YCAGR\": -79.31650955972182, \"2YCAGR\": null, \"3YCAGR\": null, \"4YCAGR\": null, \"5YCAGR\": null, \"10YCAGR\": null, \"standardDeviation\": 77.10617504557861, \"volatility\": 77.10617504557861, \"1YVolatility\": 77.10617504557861, \"2YVolatility\": null, \"3YVolatility\": null, \"4YVolatility\": null, \"5YVolatility\": null, \"10YVolatility\": null, \"rollingReturns\": {\"1Y\": -60.23153161607577}, \"maxDrawdowns\": {\"7D\": 0.0, \"1M\": -38.05309734513274, \"3M\": -53.333333333333336, \"6M\": -56.79012345679012, \"1Y\": -72.44094488188976}, \"internalSecurityId\": 126082587, \"sector\": \"Consumer Discretionary\", \"sectorExposure\": {\"Consumer Discretionary\": 100.0}, \"category\": \"Small Cap\", \"sizeExposure\": {\"Small Cap\": 100.0}, \"assetAllocation\": {\"equity\": 100.0}, \"companyDescription\": \"Sahaj Fashions Limited manufactures textile fabric products. The Company offers cotton fabrics, yarns, and industrial clothing materials. Sahaj Fashions serves customers worldwide.\"},\n",
    "    {\"finCode\": 131168, \"bseScripCode\": 531168, \"bseScripName\": \"ASSOC CERAMI\", \"bseScripGroup\": \"XT\", \"name\": \"Associated Ceramics Ltd.\", \"industryCode\": 87, \"industry\": \"Refractories\", \"hseCode\": 206, \"ticker\": null, \"nseSeries\": null, \"isin\": \"INE771E01010\", \"shortName\": \"Associated Ceramics\", \"incMonth\": \"-\", \"incYear\": 1970, \"status\": \"Active\", \"sublisting\": \"Active\", \"bseScripId\": \"ASSOCER\", \"bseSublisting\": \"Active\", \"nseSublisting\": null, \"flag\": \"A\", \"securityType\": \"EQUITIES\", \"price\": 218.55, \"marketCap\": 44.69, \"dividendYield\": 0, \"faceValue\": 10, \"ttmpe\": 31.4259, \"priceToBook\": 1.9313, \"navDate\": \"2025-04-09\", \"priceExchange\": \"BSE\", \"yearEnd\": 202403, \"roa\": 1.80624319970311, \"roe\": 3.47240942487965, \"debtToEquity\": 0.3277, \"dividendPerShare\": 0, \"adjustedPE\": 168.11476583759, \"1DReturns\": 0.0, \"5DReturns\": -1.9955156950672404, \"7DReturns\": -1.9955156950672404, \"1MReturns\": -9.894867037724175, \"3MReturns\": 5.072115384615383, \"6MReturns\": -29.95192307692307, \"1YReturns\": -55.57926829268291, \"2YReturns\": 1442.3429781227949, \"3YReturns\": 1518.888888888889, \"4YReturns\": null, \"5YReturns\": null, \"10YReturns\": null, \"1YCAGR\": -57.95704686256806, \"2YCAGR\": 395.12367578562487, \"3YCAGR\": 407.4305471153161, \"4YCAGR\": null, \"5YCAGR\": null, \"10YCAGR\": null, \"standardDeviation\": 48.285957546305696, \"volatility\": 48.285957546305696, \"1YVolatility\": 48.285957546305696, \"2YVolatility\": 48.663340655089875, \"3YVolatility\": 48.71648814944906, \"4YVolatility\": null, \"5YVolatility\": null, \"10YVolatility\": null, \"rollingReturns\": {\"1Y\": -47.43725760882135, \"2Y\": 664.5795922095278, \"3Y\": 626.7172312768556}, \"maxDrawdowns\": {\"7D\": -1.9955156950672455, \"1M\": -13.032232391563861, \"3M\": -20.07992007992008, \"6M\": -36.708860759493675, \"1Y\": -59.34959349593496, \"2Y\": -85.79696765259382, \"3Y\": -85.79696765259382}, \"internalSecurityId\": 2002410295, \"sector\": \"Materials\", \"sectorExposure\": {\"Materials\": 100.0}, \"category\": \"Small Cap\", \"sizeExposure\": {\"Small Cap\": 100.0}, \"assetAllocation\": {\"equity\": 100.0}, \"companyDescription\": \"Associated Ceramics Ltd. manufactures heat containment products. The Company markets its products to customers in the glass, steel, cement, aluminum, and graphite electrode industries throughout India and internationally.\"}\n",
    "]\n",
    "'''\n",
    "\n",
    "# Convert the JSON string to DataFrame\n",
    "stock_df = pd.read_json(json_data)\n",
    "\n",
    "# Fill missing text fields with empty string\n",
    "text_columns = stock_df.select_dtypes(include='object').columns\n",
    "stock_df[text_columns] = stock_df[text_columns].fillna('')\n",
    "\n",
    "# Create a consistent 'description' column (some have 'description', some 'companyDescription')\n",
    "if 'description' not in stock_df.columns and 'companyDescription' in stock_df.columns:\n",
    "    stock_df['description'] = stock_df['companyDescription']\n",
    "\n",
    "# Columns to combine for full_desc\n",
    "desc_columns = ['name', 'sector', 'industry', 'description', 'priceExchange']\n",
    "\n",
    "# Ensure all columns are present\n",
    "for col in desc_columns:\n",
    "    if col not in stock_df.columns:\n",
    "        stock_df[col] = ''\n",
    "\n",
    "# Convert to string and concatenate into a new column\n",
    "stock_df['full_desc'] = stock_df[desc_columns].astype(str).agg(' '.join, axis=1)\n",
    "\n",
    "# Display result\n",
    "print(stock_df[['name', 'full_desc']])"
   ]
  },
  {
   "cell_type": "code",
   "execution_count": 283,
   "id": "81c51fb0-8137-4508-b629-5e5f0701e7e5",
   "metadata": {},
   "outputs": [
    {
     "name": "stdout",
     "output_type": "stream",
     "text": [
      " Accuracy: 0.92\n",
      "\n",
      " Confusion Matrix:\n",
      "[[  0   0   0  13]\n",
      " [  1   0   0  35]\n",
      " [  0   0   6   9]\n",
      " [  0   0   5 744]]\n",
      "\n",
      " Classification Report:\n",
      "              precision    recall  f1-score   support\n",
      "\n",
      "   Large Cap       0.00      0.00      0.00        13\n",
      "     Mid Cap       0.00      0.00      0.00        36\n",
      "      Others       0.55      0.40      0.46        15\n",
      "   Small Cap       0.93      0.99      0.96       749\n",
      "\n",
      "    accuracy                           0.92       813\n",
      "   macro avg       0.37      0.35      0.36       813\n",
      "weighted avg       0.87      0.92      0.89       813\n",
      "\n"
     ]
    }
   ],
   "source": [
    "import pandas as pd\n",
    "from sklearn.model_selection import train_test_split\n",
    "from sklearn.preprocessing import LabelEncoder\n",
    "from sklearn.ensemble import RandomForestClassifier\n",
    "from sklearn.metrics import accuracy_score, confusion_matrix, classification_report\n",
    "\n",
    "# Load the data\n",
    "df = pd.read_json(\"stock_data (1).json\", lines=True)\n",
    "\n",
    "# Drop missing target\n",
    "df = df.dropna(subset=['category'])\n",
    "\n",
    "# Encode target\n",
    "le = LabelEncoder()\n",
    "df['category_encoded'] = le.fit_transform(df['category'])\n",
    "\n",
    "# Feature selection with safety check\n",
    "desired_features = [\n",
    "    'aum', 'expenseRatio', 'standardDeviation_Raw', \n",
    "    'sharpeRatio', 'sortinoRatio', '1YReturns', \n",
    "    '3YReturns', '5YReturns'\n",
    "]\n",
    "# Keep only existing features\n",
    "features = [col for col in desired_features if col in df.columns]\n",
    "\n",
    "if not features:\n",
    "    raise ValueError(\"None of the desired features are available in the dataset.\")\n",
    "\n",
    "# Drop rows with missing values in selected features\n",
    "df = df.dropna(subset=features)\n",
    "\n",
    "# Define X and y\n",
    "X = df[features]\n",
    "y = df['category_encoded']\n",
    "\n",
    "# Train-test split\n",
    "X_train, X_test, y_train, y_test = train_test_split(X, y, test_size=0.2, random_state=42)\n",
    "\n",
    "# Train model\n",
    "model = RandomForestClassifier()\n",
    "model.fit(X_train, y_train)\n",
    "\n",
    "# Predict\n",
    "y_pred = model.predict(X_test)\n",
    "\n",
    "# Evaluate\n",
    "acc = accuracy_score(y_test, y_pred)\n",
    "cm = confusion_matrix(y_test, y_pred)\n",
    "report = classification_report(y_test, y_pred, target_names=le.classes_)\n",
    "\n",
    "print(f\" Accuracy: {acc:.2f}\")\n",
    "print(\"\\n Confusion Matrix:\")\n",
    "print(cm)\n",
    "print(\"\\n Classification Report:\")\n",
    "print(report)"
   ]
  },
  {
   "cell_type": "code",
   "execution_count": 210,
   "id": "ce3521a0-0c05-4512-9e11-37e7484580f3",
   "metadata": {},
   "outputs": [
    {
     "data": {
      "image/png": "[encoded data removed]",
      "text/plain": [
       "<Figure size 1000x600 with 2 Axes>"
      ]
     },
     "metadata": {},
     "output_type": "display_data"
    }
   ],
   "source": [
    "# Plot Heatmap with a different color palette\n",
    "plt.figure(figsize=(10, 6))\n",
    "sns.heatmap(cm, annot=True, fmt='d', cmap='YlGnBu', \n",
    "            xticklabels=le.classes_, yticklabels=le.classes_, linewidths=0.5, linecolor='gray')\n",
    "plt.title('Confusion Matrix Heatmap')\n",
    "plt.xlabel('Predicted Label')\n",
    "plt.ylabel('True Label')\n",
    "plt.tight_layout()\n",
    "plt.show()"
   ]
  },
  {
   "cell_type": "markdown",
   "id": "0c26bc34-ed3d-4067-b5ab-65df5650b61c",
   "metadata": {},
   "source": [
    "## C) BUILDING THE LLM MODEL USING"
   ]
  },
  {
   "cell_type": "code",
   "execution_count": 253,
   "id": "8312f2c8-be48-42a7-ab18-d0056af594dd",
   "metadata": {},
   "outputs": [
    {
     "name": "stdout",
     "output_type": "stream",
     "text": [
      "    parentSchemeCode  noShares  marketValue        aum  holdingPercentage  \\\n",
      "0              49135      4620    4667.2100   41209.32          11.325618   \n",
      "1              49135      4620    4667.2100   41209.32          11.325618   \n",
      "2              49168      3800    3838.8322   73346.96           5.233799   \n",
      "3              49109      4620    4667.2100   41209.32          11.325618   \n",
      "4              30692       500     505.1100  804330.28           0.062799   \n",
      "5              30690       500     505.1100  804330.28           0.062799   \n",
      "6              49167      3800    3838.8322   73346.96           5.233799   \n",
      "7              49167      3800    3838.8322   73346.96           5.233799   \n",
      "8              31565       500     505.1100  804330.28           0.062799   \n",
      "9              43679       500     505.1100  804330.28           0.062799   \n",
      "10             49624    500000     505.1100    8186.00           6.170413   \n",
      "11             30691       500     505.1100  804330.28           0.062799   \n",
      "12             49137      4620    4667.2100   41209.32          11.325618   \n",
      "13             49137      4620    4667.2100   41209.32          11.325618   \n",
      "14             49656    500000     505.1100    8186.00           6.170413   \n",
      "15             49656    500000     505.1100    8186.00           6.170413   \n",
      "16             49658    500000     505.1100    8186.00           6.170413   \n",
      "17             49658    500000     505.1100    8186.00           6.170413   \n",
      "18             49127      3800    3838.8322   73346.96           5.233799   \n",
      "19             49136      4620    4667.2100   41209.32          11.325618   \n",
      "20             49624    500000     505.1100    8186.00           6.170413   \n",
      "21             30691       500     505.1100  804330.28           0.062799   \n",
      "22             49137      4620    4667.2100   41209.32          11.325618   \n",
      "23             49137      4620    4667.2100   41209.32          11.325618   \n",
      "24             49656    500000     505.1100    8186.00           6.170413   \n",
      "25             49656    500000     505.1100    8186.00           6.170413   \n",
      "26             49658    500000     505.1100    8186.00           6.170413   \n",
      "27             49658    500000     505.1100    8186.00           6.170413   \n",
      "28             49127      3800    3838.8322   73346.96           5.233799   \n",
      "29             49136      4620    4667.2100   41209.32          11.325618   \n",
      "\n",
      "    finCode  assetCode  srNo    rating investmentDate asset       assetType  \\\n",
      "0   1124516          2     2  CARE AAA     2025-03-31  Debt  Corporate Debt   \n",
      "1   1124516          2     2  CARE AAA     2025-03-31  Debt  Corporate Debt   \n",
      "2   1124516          2    11   IND AAA     2025-03-31  Debt  Corporate Debt   \n",
      "3   1124516          2     2  CARE AAA     2025-03-31  Debt  Corporate Debt   \n",
      "4   1124516          2   124  CARE AAA     2025-03-31  Debt  Corporate Debt   \n",
      "5   1124516          2   124  CARE AAA     2025-03-31  Debt  Corporate Debt   \n",
      "6   1124516          2    11   IND AAA     2025-03-31  Debt  Corporate Debt   \n",
      "7   1124516          2    11   IND AAA     2025-03-31  Debt  Corporate Debt   \n",
      "8   1124516          2   124  CARE AAA     2025-03-31  Debt  Corporate Debt   \n",
      "9   1124516          2   124  CARE AAA     2025-03-31  Debt  Corporate Debt   \n",
      "10  1124516          2     6  CARE AAA     2025-03-31  Debt  Corporate Debt   \n",
      "11  1124516          2   124  CARE AAA     2025-03-31  Debt  Corporate Debt   \n",
      "12  1124516          2     2  CARE AAA     2025-03-31  Debt  Corporate Debt   \n",
      "13  1124516          2     2  CARE AAA     2025-03-31  Debt  Corporate Debt   \n",
      "14  1124516          2     6  CARE AAA     2025-03-31  Debt  Corporate Debt   \n",
      "15  1124516          2     6  CARE AAA     2025-03-31  Debt  Corporate Debt   \n",
      "16  1124516          2     6  CARE AAA     2025-03-31  Debt  Corporate Debt   \n",
      "17  1124516          2     6  CARE AAA     2025-03-31  Debt  Corporate Debt   \n",
      "18  1124516          2    11   IND AAA     2025-03-31  Debt  Corporate Debt   \n",
      "19  1124516          2     2  CARE AAA     2025-03-31  Debt  Corporate Debt   \n",
      "20  1124516          2     6  CARE AAA     2025-03-31  Debt  Corporate Debt   \n",
      "21  1124516          2   124  CARE AAA     2025-03-31  Debt  Corporate Debt   \n",
      "22  1124516          2     2  CARE AAA     2025-03-31  Debt  Corporate Debt   \n",
      "23  1124516          2     2  CARE AAA     2025-03-31  Debt  Corporate Debt   \n",
      "24  1124516          2     6  CARE AAA     2025-03-31  Debt  Corporate Debt   \n",
      "25  1124516          2     6  CARE AAA     2025-03-31  Debt  Corporate Debt   \n",
      "26  1124516          2     6  CARE AAA     2025-03-31  Debt  Corporate Debt   \n",
      "27  1124516          2     6  CARE AAA     2025-03-31  Debt  Corporate Debt   \n",
      "28  1124516          2    11   IND AAA     2025-03-31  Debt  Corporate Debt   \n",
      "29  1124516          2     2  CARE AAA     2025-03-31  Debt  Corporate Debt   \n",
      "\n",
      "    sector   category  parentInternalSecurityId    parentIsin  \n",
      "0   Others  Small Cap                3655363995  INF174KA1SX6  \n",
      "1   Others  Small Cap                4281304498  INF174KA1SY4  \n",
      "2   Others  Small Cap                1133009262  INF846K017X1  \n",
      "3   Others  Small Cap                 234908329  INF174KA1SW8  \n",
      "4   Others  Small Cap                 238827236  INF174K01D28  \n",
      "5   Others  Small Cap                 451112574  INF174K01C78  \n",
      "6   Others  Small Cap                2691476497  INF846K018X9  \n",
      "7   Others  Small Cap                3984445984  INF846K010Y4  \n",
      "8   Others  Small Cap                3690171510  INF174K01D02  \n",
      "9   Others  Small Cap                1830718849  INF174K01D36  \n",
      "10  Others  Small Cap                3550930951  INF754K01UK9  \n",
      "11  Others  Small Cap                1758586423  INF174K01C86  \n",
      "12  Others  Small Cap                2155008774  INF174KA1SV0  \n",
      "13  Others  Small Cap                1245670811  INF174KA1SU2  \n",
      "14  Others  Small Cap                1474536294  INF754K01UL7  \n",
      "15  Others  Small Cap                3832946898  INF754K01UM5  \n",
      "16  Others  Small Cap                3511312226  INF754K01UH5  \n",
      "17  Others  Small Cap                2063855125  INF754K01UI3  \n",
      "18  Others  Small Cap                2396713517  INF846K016X3  \n",
      "19  Others  Small Cap                2696454854  INF174KA1TF1  \n",
      "20  Others  Small Cap                3550930951  INF754K01UK9  \n",
      "21  Others  Small Cap                1758586423  INF174K01C86  \n",
      "22  Others  Small Cap                2155008774  INF174KA1SV0  \n",
      "23  Others  Small Cap                1245670811  INF174KA1SU2  \n",
      "24  Others  Small Cap                1474536294  INF754K01UL7  \n",
      "25  Others  Small Cap                3832946898  INF754K01UM5  \n",
      "26  Others  Small Cap                3511312226  INF754K01UH5  \n",
      "27  Others  Small Cap                2063855125  INF754K01UI3  \n",
      "28  Others  Small Cap                2396713517  INF846K016X3  \n",
      "29  Others  Small Cap                2696454854  INF174KA1TF1  \n"
     ]
    }
   ],
   "source": [
    "import pandas as pd\n",
    "\n",
    "mf_holdings_data = pd.DataFrame([\n",
    "    {\"parentSchemeCode\": 49135, \"noShares\": 4620, \"marketValue\": 4667.21, \"aum\": 41209.32, \"holdingPercentage\": 11.3256176030083, \"finCode\": 1124516, \"assetCode\": 2, \"srNo\": 2, \"rating\": \"CARE AAA\", \"investmentDate\": \"2025-03-31\", \"asset\": \"Debt\", \"assetType\": \"Corporate Debt\", \"sector\": \"Others\", \"category\": \"Small Cap\", \"parentInternalSecurityId\": 3655363995, \"parentIsin\": \"INF174KA1SX6\"},\n",
    "    {\"parentSchemeCode\": 49135, \"noShares\": 4620, \"marketValue\": 4667.21, \"aum\": 41209.32, \"holdingPercentage\": 11.3256176030083, \"finCode\": 1124516, \"assetCode\": 2, \"srNo\": 2, \"rating\": \"CARE AAA\", \"investmentDate\": \"2025-03-31\", \"asset\": \"Debt\", \"assetType\": \"Corporate Debt\", \"sector\": \"Others\", \"category\": \"Small Cap\", \"parentInternalSecurityId\": 4281304498, \"parentIsin\": \"INF174KA1SY4\"},\n",
    "    {\"parentSchemeCode\": 49168, \"noShares\": 3800, \"marketValue\": 3838.8322, \"aum\": 73346.96, \"holdingPercentage\": 5.23379864686962, \"finCode\": 1124516, \"assetCode\": 2, \"srNo\": 11, \"rating\": \"IND AAA\", \"investmentDate\": \"2025-03-31\", \"asset\": \"Debt\", \"assetType\": \"Corporate Debt\", \"sector\": \"Others\", \"category\": \"Small Cap\", \"parentInternalSecurityId\": 1133009262, \"parentIsin\": \"INF846K017X1\"},\n",
    "    {\"parentSchemeCode\": 49109, \"noShares\": 4620, \"marketValue\": 4667.21, \"aum\": 41209.32, \"holdingPercentage\": 11.3256176030083, \"finCode\": 1124516, \"assetCode\": 2, \"srNo\": 2, \"rating\": \"CARE AAA\", \"investmentDate\": \"2025-03-31\", \"asset\": \"Debt\", \"assetType\": \"Corporate Debt\", \"sector\": \"Others\", \"category\": \"Small Cap\", \"parentInternalSecurityId\": 234908329, \"parentIsin\": \"INF174KA1SW8\"},\n",
    "    {\"parentSchemeCode\": 30692, \"noShares\": 500, \"marketValue\": 505.11, \"aum\": 804330.28, \"holdingPercentage\": 0.0627988293565176, \"finCode\": 1124516, \"assetCode\": 2, \"srNo\": 124, \"rating\": \"CARE AAA\", \"investmentDate\": \"2025-03-31\", \"asset\": \"Debt\", \"assetType\": \"Corporate Debt\", \"sector\": \"Others\", \"category\": \"Small Cap\", \"parentInternalSecurityId\": 238827236, \"parentIsin\": \"INF174K01D28\"},\n",
    "    {\"parentSchemeCode\": 30690, \"noShares\": 500, \"marketValue\": 505.11, \"aum\": 804330.28, \"holdingPercentage\": 0.0627988293565176, \"finCode\": 1124516, \"assetCode\": 2, \"srNo\": 124, \"rating\": \"CARE AAA\", \"investmentDate\": \"2025-03-31\", \"asset\": \"Debt\", \"assetType\": \"Corporate Debt\", \"sector\": \"Others\", \"category\": \"Small Cap\", \"parentInternalSecurityId\": 451112574, \"parentIsin\": \"INF174K01C78\"},\n",
    "    {\"parentSchemeCode\": 49167, \"noShares\": 3800, \"marketValue\": 3838.8322, \"aum\": 73346.96, \"holdingPercentage\": 5.23379864686962, \"finCode\": 1124516, \"assetCode\": 2, \"srNo\": 11, \"rating\": \"IND AAA\", \"investmentDate\": \"2025-03-31\", \"asset\": \"Debt\", \"assetType\": \"Corporate Debt\", \"sector\": \"Others\", \"category\": \"Small Cap\", \"parentInternalSecurityId\": 2691476497, \"parentIsin\": \"INF846K018X9\"},\n",
    "    {\"parentSchemeCode\": 49167, \"noShares\": 3800, \"marketValue\": 3838.8322, \"aum\": 73346.96, \"holdingPercentage\": 5.23379864686962, \"finCode\": 1124516, \"assetCode\": 2, \"srNo\": 11, \"rating\": \"IND AAA\", \"investmentDate\": \"2025-03-31\", \"asset\": \"Debt\", \"assetType\": \"Corporate Debt\", \"sector\": \"Others\", \"category\": \"Small Cap\", \"parentInternalSecurityId\": 3984445984, \"parentIsin\": \"INF846K010Y4\"},\n",
    "    {\"parentSchemeCode\": 31565, \"noShares\": 500, \"marketValue\": 505.11, \"aum\": 804330.28, \"holdingPercentage\": 0.0627988293565176, \"finCode\": 1124516, \"assetCode\": 2, \"srNo\": 124, \"rating\": \"CARE AAA\", \"investmentDate\": \"2025-03-31\", \"asset\": \"Debt\", \"assetType\": \"Corporate Debt\", \"sector\": \"Others\", \"category\": \"Small Cap\", \"parentInternalSecurityId\": 3690171510, \"parentIsin\": \"INF174K01D02\"},\n",
    "    {\"parentSchemeCode\": 43679, \"noShares\": 500, \"marketValue\": 505.11, \"aum\": 804330.28, \"holdingPercentage\": 0.0627988293565176, \"finCode\": 1124516, \"assetCode\": 2, \"srNo\": 124, \"rating\": \"CARE AAA\", \"investmentDate\": \"2025-03-31\", \"asset\": \"Debt\", \"assetType\": \"Corporate Debt\", \"sector\": \"Others\", \"category\": \"Small Cap\", \"parentInternalSecurityId\": 1830718849, \"parentIsin\": \"INF174K01D36\"},\n",
    "    {\"parentSchemeCode\": 49624, \"noShares\": 500000, \"marketValue\": 505.11, \"aum\": 8186, \"holdingPercentage\": 6.1704129000733, \"finCode\": 1124516, \"assetCode\": 2, \"srNo\": 6, \"rating\": \"CARE AAA\", \"investmentDate\": \"2025-03-31\", \"asset\": \"Debt\", \"assetType\": \"Corporate Debt\", \"sector\": \"Others\", \"category\": \"Small Cap\", \"parentInternalSecurityId\": 3550930951, \"parentIsin\": \"INF754K01UK9\"},\n",
    "    {\"parentSchemeCode\": 30691, \"noShares\": 500, \"marketValue\": 505.11, \"aum\": 804330.28, \"holdingPercentage\": 0.0627988293565176, \"finCode\": 1124516, \"assetCode\": 2, \"srNo\": 124, \"rating\": \"CARE AAA\", \"investmentDate\": \"2025-03-31\", \"asset\": \"Debt\", \"assetType\": \"Corporate Debt\", \"sector\": \"Others\", \"category\": \"Small Cap\", \"parentInternalSecurityId\": 1758586423, \"parentIsin\": \"INF174K01C86\"},\n",
    "    {\"parentSchemeCode\": 49137, \"noShares\": 4620, \"marketValue\": 4667.21, \"aum\": 41209.32, \"holdingPercentage\": 11.3256176030083, \"finCode\": 1124516, \"assetCode\": 2, \"srNo\": 2, \"rating\": \"CARE AAA\", \"investmentDate\": \"2025-03-31\", \"asset\": \"Debt\", \"assetType\": \"Corporate Debt\", \"sector\": \"Others\", \"category\": \"Small Cap\", \"parentInternalSecurityId\": 2155008774, \"parentIsin\": \"INF174KA1SV0\"},\n",
    "    {\"parentSchemeCode\": 49137, \"noShares\": 4620, \"marketValue\": 4667.21, \"aum\": 41209.32, \"holdingPercentage\": 11.3256176030083, \"finCode\": 1124516, \"assetCode\": 2, \"srNo\": 2, \"rating\": \"CARE AAA\", \"investmentDate\": \"2025-03-31\", \"asset\": \"Debt\", \"assetType\": \"Corporate Debt\", \"sector\": \"Others\", \"category\": \"Small Cap\", \"parentInternalSecurityId\": 1245670811, \"parentIsin\": \"INF174KA1SU2\"},\n",
    "    {\"parentSchemeCode\": 49656, \"noShares\": 500000, \"marketValue\": 505.11, \"aum\": 8186, \"holdingPercentage\": 6.1704129000733, \"finCode\": 1124516, \"assetCode\": 2, \"srNo\": 6, \"rating\": \"CARE AAA\", \"investmentDate\": \"2025-03-31\", \"asset\": \"Debt\", \"assetType\": \"Corporate Debt\", \"sector\": \"Others\", \"category\": \"Small Cap\", \"parentInternalSecurityId\": 1474536294, \"parentIsin\": \"INF754K01UL7\"},\n",
    "    {\"parentSchemeCode\": 49656, \"noShares\": 500000, \"marketValue\": 505.11, \"aum\": 8186, \"holdingPercentage\": 6.1704129000733, \"finCode\": 1124516, \"assetCode\": 2, \"srNo\": 6, \"rating\": \"CARE AAA\", \"investmentDate\": \"2025-03-31\", \"asset\": \"Debt\", \"assetType\": \"Corporate Debt\", \"sector\": \"Others\", \"category\": \"Small Cap\", \"parentInternalSecurityId\": 3832946898, \"parentIsin\": \"INF754K01UM5\"},\n",
    "    {\"parentSchemeCode\": 49658, \"noShares\": 500000, \"marketValue\": 505.11, \"aum\": 8186, \"holdingPercentage\": 6.1704129000733, \"finCode\": 1124516, \"assetCode\": 2, \"srNo\": 6, \"rating\": \"CARE AAA\", \"investmentDate\": \"2025-03-31\", \"asset\": \"Debt\", \"assetType\": \"Corporate Debt\", \"sector\": \"Others\", \"category\": \"Small Cap\", \"parentInternalSecurityId\": 3511312226, \"parentIsin\": \"INF754K01UH5\"},\n",
    "    {\"parentSchemeCode\": 49658, \"noShares\": 500000, \"marketValue\": 505.11, \"aum\": 8186, \"holdingPercentage\": 6.1704129000733, \"finCode\": 1124516, \"assetCode\": 2, \"srNo\": 6, \"rating\": \"CARE AAA\", \"investmentDate\": \"2025-03-31\", \"asset\": \"Debt\", \"assetType\": \"Corporate Debt\", \"sector\": \"Others\", \"category\": \"Small Cap\", \"parentInternalSecurityId\": 2063855125, \"parentIsin\": \"INF754K01UI3\"},\n",
    "    {\"parentSchemeCode\": 49127, \"noShares\": 3800, \"marketValue\": 3838.8322, \"aum\": 73346.96, \"holdingPercentage\": 5.23379864686962, \"finCode\": 1124516, \"assetCode\": 2, \"srNo\": 11, \"rating\": \"IND AAA\", \"investmentDate\": \"2025-03-31\", \"asset\": \"Debt\", \"assetType\": \"Corporate Debt\", \"sector\": \"Others\", \"category\": \"Small Cap\", \"parentInternalSecurityId\": 2396713517, \"parentIsin\": \"INF846K016X3\"},\n",
    "    {\"parentSchemeCode\": 49136, \"noShares\": 4620, \"marketValue\": 4667.21, \"aum\": 41209.32, \"holdingPercentage\": 11.3256176030083, \"finCode\": 1124516, \"assetCode\": 2, \"srNo\": 2, \"rating\": \"CARE AAA\", \"investmentDate\": \"2025-03-31\", \"asset\": \"Debt\", \"assetType\": \"Corporate Debt\", \"sector\": \"Others\", \"category\": \"Small Cap\", \"parentInternalSecurityId\": 2696454854, \"parentIsin\": \"INF174KA1TF1\"},\n",
    "    {\"parentSchemeCode\": 49624, \"noShares\": 500000, \"marketValue\": 505.11, \"aum\": 8186, \"holdingPercentage\": 6.1704129000733, \"finCode\": 1124516, \"assetCode\": 2, \"srNo\": 6, \"rating\": \"CARE AAA\", \"investmentDate\": \"2025-03-31\", \"asset\": \"Debt\", \"assetType\": \"Corporate Debt\", \"sector\": \"Others\", \"category\": \"Small Cap\", \"parentInternalSecurityId\": 3550930951, \"parentIsin\": \"INF754K01UK9\"},\n",
    "    {\"parentSchemeCode\": 30691, \"noShares\": 500, \"marketValue\": 505.11, \"aum\": 804330.28, \"holdingPercentage\": 0.0627988293565176, \"finCode\": 1124516, \"assetCode\": 2, \"srNo\": 124, \"rating\": \"CARE AAA\", \"investmentDate\": \"2025-03-31\", \"asset\": \"Debt\", \"assetType\": \"Corporate Debt\", \"sector\": \"Others\", \"category\": \"Small Cap\", \"parentInternalSecurityId\": 1758586423, \"parentIsin\": \"INF174K01C86\"},\n",
    "    {\"parentSchemeCode\": 49137, \"noShares\": 4620, \"marketValue\": 4667.21, \"aum\": 41209.32, \"holdingPercentage\": 11.3256176030083, \"finCode\": 1124516, \"assetCode\": 2, \"srNo\": 2, \"rating\": \"CARE AAA\", \"investmentDate\": \"2025-03-31\", \"asset\": \"Debt\", \"assetType\": \"Corporate Debt\", \"sector\": \"Others\", \"category\": \"Small Cap\", \"parentInternalSecurityId\": 2155008774, \"parentIsin\": \"INF174KA1SV0\"},\n",
    "    {\"parentSchemeCode\": 49137, \"noShares\": 4620, \"marketValue\": 4667.21, \"aum\": 41209.32, \"holdingPercentage\": 11.3256176030083, \"finCode\": 1124516, \"assetCode\": 2, \"srNo\": 2, \"rating\": \"CARE AAA\", \"investmentDate\": \"2025-03-31\", \"asset\": \"Debt\", \"assetType\": \"Corporate Debt\", \"sector\": \"Others\", \"category\": \"Small Cap\", \"parentInternalSecurityId\": 1245670811, \"parentIsin\": \"INF174KA1SU2\"},\n",
    "    {\"parentSchemeCode\": 49656, \"noShares\": 500000, \"marketValue\": 505.11, \"aum\": 8186, \"holdingPercentage\": 6.1704129000733, \"finCode\": 1124516, \"assetCode\": 2, \"srNo\": 6, \"rating\": \"CARE AAA\", \"investmentDate\": \"2025-03-31\", \"asset\": \"Debt\", \"assetType\": \"Corporate Debt\", \"sector\": \"Others\", \"category\": \"Small Cap\", \"parentInternalSecurityId\": 1474536294, \"parentIsin\": \"INF754K01UL7\"},\n",
    "    {\"parentSchemeCode\": 49656, \"noShares\": 500000, \"marketValue\": 505.11, \"aum\": 8186, \"holdingPercentage\": 6.1704129000733, \"finCode\": 1124516, \"assetCode\": 2, \"srNo\": 6, \"rating\": \"CARE AAA\", \"investmentDate\": \"2025-03-31\", \"asset\": \"Debt\", \"assetType\": \"Corporate Debt\", \"sector\": \"Others\", \"category\": \"Small Cap\", \"parentInternalSecurityId\": 3832946898, \"parentIsin\": \"INF754K01UM5\"},\n",
    "    {\"parentSchemeCode\": 49658, \"noShares\": 500000, \"marketValue\": 505.11, \"aum\": 8186, \"holdingPercentage\": 6.1704129000733, \"finCode\": 1124516, \"assetCode\": 2, \"srNo\": 6, \"rating\": \"CARE AAA\", \"investmentDate\": \"2025-03-31\", \"asset\": \"Debt\", \"assetType\": \"Corporate Debt\", \"sector\": \"Others\", \"category\": \"Small Cap\", \"parentInternalSecurityId\": 3511312226, \"parentIsin\": \"INF754K01UH5\"},\n",
    "    {\"parentSchemeCode\": 49658, \"noShares\": 500000, \"marketValue\": 505.11, \"aum\": 8186, \"holdingPercentage\": 6.1704129000733, \"finCode\": 1124516, \"assetCode\": 2, \"srNo\": 6, \"rating\": \"CARE AAA\", \"investmentDate\": \"2025-03-31\", \"asset\": \"Debt\", \"assetType\": \"Corporate Debt\", \"sector\": \"Others\", \"category\": \"Small Cap\", \"parentInternalSecurityId\": 2063855125, \"parentIsin\": \"INF754K01UI3\"},\n",
    "    {\"parentSchemeCode\": 49127, \"noShares\": 3800, \"marketValue\": 3838.8322, \"aum\": 73346.96, \"holdingPercentage\": 5.23379864686962, \"finCode\": 1124516, \"assetCode\": 2, \"srNo\": 11, \"rating\": \"IND AAA\", \"investmentDate\": \"2025-03-31\", \"asset\": \"Debt\", \"assetType\": \"Corporate Debt\", \"sector\": \"Others\", \"category\": \"Small Cap\", \"parentInternalSecurityId\": 2396713517, \"parentIsin\": \"INF846K016X3\"},\n",
    "    {\"parentSchemeCode\": 49136, \"noShares\": 4620, \"marketValue\": 4667.21, \"aum\": 41209.32, \"holdingPercentage\": 11.3256176030083, \"finCode\": 1124516, \"assetCode\": 2, \"srNo\": 2, \"rating\": \"CARE AAA\", \"investmentDate\": \"2025-03-31\", \"asset\": \"Debt\", \"assetType\": \"Corporate Debt\", \"sector\": \"Others\", \"category\": \"Small Cap\", \"parentInternalSecurityId\": 2696454854, \"parentIsin\": \"INF174KA1TF1\"}\n",
    "])\n",
    "\n",
    "# Display all rows\n",
    "pd.set_option(\"display.max_rows\", None)\n",
    "print(mf_holdings_data)"
   ]
  },
  {
   "cell_type": "code",
   "execution_count": 257,
   "id": "0520c32d-f4f9-4908-b5d2-096fa4e827bd",
   "metadata": {},
   "outputs": [
    {
     "data": {
      "text/plain": [
       "{'columns': [{'field': 'parentSchemeCode', 'header': 'Scheme Code'},\n",
       "  {'field': 'noShares', 'header': 'No. of Shares'},\n",
       "  {'field': 'marketValue', 'header': 'Market Value (₹)'},\n",
       "  {'field': 'aum', 'header': 'AUM (₹)'},\n",
       "  {'field': 'holdingPercentage', 'header': 'Holding (%)'},\n",
       "  {'field': 'finCode', 'header': 'Fin Code'},\n",
       "  {'field': 'assetCode', 'header': 'Asset Code'},\n",
       "  {'field': 'srNo', 'header': 'Serial No'},\n",
       "  {'field': 'rating', 'header': 'Rating'},\n",
       "  {'field': 'investmentDate', 'header': 'Investment Date'},\n",
       "  {'field': 'asset', 'header': 'Asset'},\n",
       "  {'field': 'assetType', 'header': 'Asset Type'},\n",
       "  {'field': 'sector', 'header': 'Sector'},\n",
       "  {'field': 'category', 'header': 'Category'},\n",
       "  {'field': 'parentInternalSecurityId', 'header': 'Internal Security ID'},\n",
       "  {'field': 'parentIsin', 'header': 'ISIN'}],\n",
       " 'rows': [{'parentSchemeCode': 49135,\n",
       "   'noShares': 4620,\n",
       "   'marketValue': 4667.21,\n",
       "   'aum': 41209.32,\n",
       "   'holdingPercentage': 11.33,\n",
       "   'finCode': 1124516,\n",
       "   'assetCode': 2,\n",
       "   'srNo': 2,\n",
       "   'rating': 'CARE AAA',\n",
       "   'investmentDate': '2025-03-31',\n",
       "   'asset': 'Debt',\n",
       "   'assetType': 'Corporate Debt',\n",
       "   'sector': 'Others',\n",
       "   'category': 'Small Cap',\n",
       "   'parentInternalSecurityId': 3655363995,\n",
       "   'parentIsin': 'INF174KA1SX6'},\n",
       "  {'parentSchemeCode': 49135,\n",
       "   'noShares': 4620,\n",
       "   'marketValue': 4667.21,\n",
       "   'aum': 41209.32,\n",
       "   'holdingPercentage': 11.33,\n",
       "   'finCode': 1124516,\n",
       "   'assetCode': 2,\n",
       "   'srNo': 2,\n",
       "   'rating': 'CARE AAA',\n",
       "   'investmentDate': '2025-03-31',\n",
       "   'asset': 'Debt',\n",
       "   'assetType': 'Corporate Debt',\n",
       "   'sector': 'Others',\n",
       "   'category': 'Small Cap',\n",
       "   'parentInternalSecurityId': 4281304498,\n",
       "   'parentIsin': 'INF174KA1SY4'}]}"
      ]
     },
     "execution_count": 257,
     "metadata": {},
     "output_type": "execute_result"
    }
   ],
   "source": [
    "{\n",
    "  \"columns\": [\n",
    "    { \"field\": \"parentSchemeCode\", \"header\": \"Scheme Code\" },\n",
    "    { \"field\": \"noShares\", \"header\": \"No. of Shares\" },\n",
    "    { \"field\": \"marketValue\", \"header\": \"Market Value (₹)\" },\n",
    "    { \"field\": \"aum\", \"header\": \"AUM (₹)\" },\n",
    "    { \"field\": \"holdingPercentage\", \"header\": \"Holding (%)\" },\n",
    "    { \"field\": \"finCode\", \"header\": \"Fin Code\" },\n",
    "    { \"field\": \"assetCode\", \"header\": \"Asset Code\" },\n",
    "    { \"field\": \"srNo\", \"header\": \"Serial No\" },\n",
    "    { \"field\": \"rating\", \"header\": \"Rating\" },\n",
    "    { \"field\": \"investmentDate\", \"header\": \"Investment Date\" },\n",
    "    { \"field\": \"asset\", \"header\": \"Asset\" },\n",
    "    { \"field\": \"assetType\", \"header\": \"Asset Type\" },\n",
    "    { \"field\": \"sector\", \"header\": \"Sector\" },\n",
    "    { \"field\": \"category\", \"header\": \"Category\" },\n",
    "    { \"field\": \"parentInternalSecurityId\", \"header\": \"Internal Security ID\" },\n",
    "    { \"field\": \"parentIsin\", \"header\": \"ISIN\" }\n",
    "  ],\n",
    "  \"rows\": [\n",
    "    {\n",
    "      \"parentSchemeCode\": 49135,\n",
    "      \"noShares\": 4620,\n",
    "      \"marketValue\": 4667.21,\n",
    "      \"aum\": 41209.32,\n",
    "      \"holdingPercentage\": 11.33,\n",
    "      \"finCode\": 1124516,\n",
    "      \"assetCode\": 2,\n",
    "      \"srNo\": 2,\n",
    "      \"rating\": \"CARE AAA\",\n",
    "      \"investmentDate\": \"2025-03-31\",\n",
    "      \"asset\": \"Debt\",\n",
    "      \"assetType\": \"Corporate Debt\",\n",
    "      \"sector\": \"Others\",\n",
    "      \"category\": \"Small Cap\",\n",
    "      \"parentInternalSecurityId\": 3655363995,\n",
    "      \"parentIsin\": \"INF174KA1SX6\"\n",
    "    },\n",
    "    {\n",
    "      \"parentSchemeCode\": 49135,\n",
    "      \"noShares\": 4620,\n",
    "      \"marketValue\": 4667.21,\n",
    "      \"aum\": 41209.32,\n",
    "      \"holdingPercentage\": 11.33,\n",
    "      \"finCode\": 1124516,\n",
    "      \"assetCode\": 2,\n",
    "      \"srNo\": 2,\n",
    "      \"rating\": \"CARE AAA\",\n",
    "      \"investmentDate\": \"2025-03-31\",\n",
    "      \"asset\": \"Debt\",\n",
    "      \"assetType\": \"Corporate Debt\",\n",
    "      \"sector\": \"Others\",\n",
    "      \"category\": \"Small Cap\",\n",
    "      \"parentInternalSecurityId\": 4281304498,\n",
    "      \"parentIsin\": \"INF174KA1SY4\"\n",
    "    }\n",
    "  ]\n",
    "}"
   ]
  },
  {
   "cell_type": "code",
   "execution_count": 263,
   "id": "bbb9cce4-4cec-4efa-ac05-db39badb2075",
   "metadata": {},
   "outputs": [],
   "source": [
    "from sentence_transformers import SentenceTransformer\n",
    "\n",
    "# Load a small pre-trained model for text embeddings\n",
    "model = SentenceTransformer(\"BAAI/bge-small-en-v1.5\")\n",
    "\n",
    "# Function to embed a list of text strings\n",
    "def get_embeddings(text_list):\n",
    "    return model.encode(text_list, normalize_embeddings=True)"
   ]
  },
  {
   "cell_type": "code",
   "execution_count": 291,
   "id": "078e1f5e-64e9-4109-a5dd-eca581e7e188",
   "metadata": {},
   "outputs": [],
   "source": [
    "data = [\n",
    "    {\"category\": \"Small Cap\", \"sector\": \"Others\", \"parentIsin\": \"INF174KA1SX6\"},\n",
    "    {\"category\": \"Large Cap\", \"sector\": \"Technology\", \"parentIsin\": \"INF174KA1SY4\"},\n",
    "    {\"category\": \"Mid Cap\", \"sector\": \"Finance\", \"parentIsin\": \"INF174KA1SZ2\"},\n",
    "    {\"category\": \"Small Cap\", \"sector\": \"Healthcare\", \"parentIsin\": \"INF174KA1S10\"},\n",
    "    {\"category\": \"Large Cap\", \"sector\": \"Energy\", \"parentIsin\": \"INF174KA1S11\"},\n",
    "    {\"category\": \"Mid Cap\", \"sector\": \"Real Estate\", \"parentIsin\": \"INF174KA1S12\"},\n",
    "    {\"category\": \"Small Cap\", \"sector\": \"Consumer Goods\", \"parentIsin\": \"INF174KA1S13\"},\n",
    "    {\"category\": \"Large Cap\", \"sector\": \"Automobile\", \"parentIsin\": \"INF174KA1S14\"},\n",
    "    {\"category\": \"Mid Cap\", \"sector\": \"Pharmaceuticals\", \"parentIsin\": \"INF174KA1S15\"},\n",
    "    {\"category\": \"Small Cap\", \"sector\": \"Retail\", \"parentIsin\": \"INF174KA1S16\"}\n",
    "]"
   ]
  },
  {
   "cell_type": "code",
   "execution_count": 293,
   "id": "1a25a3c0-eb03-46ef-9279-d58c3f0ffded",
   "metadata": {},
   "outputs": [
    {
     "name": "stdout",
     "output_type": "stream",
     "text": [
      "     parentIsin     score\n",
      "1  INF174KA1SY4  0.780684\n",
      "4  INF174KA1S11  0.729451\n",
      "2  INF174KA1SZ2  0.728288\n",
      "7  INF174KA1S14  0.709527\n",
      "6  INF174KA1S13  0.691992\n"
     ]
    }
   ],
   "source": [
    "from sentence_transformers import SentenceTransformer\n",
    "import pandas as pd\n",
    "import faiss\n",
    "import numpy as np\n",
    "\n",
    "# Load the embedding model\n",
    "model = SentenceTransformer(\"BAAI/bge-small-en-v1.5\")\n",
    "\n",
    "# Function to get sentence embeddings\n",
    "def get_embeddings(text_list):\n",
    "    return model.encode(text_list, normalize_embeddings=True)\n",
    "\n",
    "# Prepares the DataFrame and adds embeddings\n",
    "def prepare_dataframe_and_embeddings(fund_df):\n",
    "    fund_df['fund_name'] = fund_df['parentIsin']  # Use ISIN as a placeholder for fund name\n",
    "    fund_df['search_text'] = fund_df['fund_name'] + \" - \" + fund_df['category'] + \" - \" + fund_df['sector']\n",
    "    embeddings = get_embeddings(fund_df['search_text'].tolist())\n",
    "    fund_df['embedding'] = embeddings.tolist()\n",
    "    return fund_df, embeddings\n",
    "\n",
    "# Creates a FAISS index using inner product similarity\n",
    "def create_faiss_index(embeddings):\n",
    "    dimension = embeddings.shape[1]\n",
    "    index = faiss.IndexFlatIP(dimension)\n",
    "    index.add(embeddings)\n",
    "    return index\n",
    "\n",
    "# Function to search for similar funds\n",
    "def search_funds(query, fund_df, index, top_k=5):\n",
    "    query_embedding = get_embeddings([query])[0].reshape(1, -1)\n",
    "    scores, indices = index.search(query_embedding, top_k)\n",
    "    results = fund_df.iloc[indices[0]].copy()\n",
    "    results[\"score\"] = scores[0]\n",
    "    return results\n",
    "\n",
    "# Main code execution\n",
    "if __name__ == \"__main__\":\n",
    "    data = [\n",
    "        {\"category\": \"Small Cap\", \"sector\": \"Others\", \"parentIsin\": \"INF174KA1SX6\"},\n",
    "        {\"category\": \"Large Cap\", \"sector\": \"Technology\", \"parentIsin\": \"INF174KA1SY4\"},\n",
    "        {\"category\": \"Mid Cap\", \"sector\": \"Finance\", \"parentIsin\": \"INF174KA1SZ2\"},\n",
    "        {\"category\": \"Small Cap\", \"sector\": \"Healthcare\", \"parentIsin\": \"INF174KA1S10\"},\n",
    "        {\"category\": \"Large Cap\", \"sector\": \"Energy\", \"parentIsin\": \"INF174KA1S11\"},\n",
    "        {\"category\": \"Mid Cap\", \"sector\": \"Real Estate\", \"parentIsin\": \"INF174KA1S12\"},\n",
    "        {\"category\": \"Small Cap\", \"sector\": \"Consumer Goods\", \"parentIsin\": \"INF174KA1S13\"},\n",
    "        {\"category\": \"Large Cap\", \"sector\": \"Automobile\", \"parentIsin\": \"INF174KA1S14\"},\n",
    "        {\"category\": \"Mid Cap\", \"sector\": \"Pharmaceuticals\", \"parentIsin\": \"INF174KA1S15\"},\n",
    "        {\"category\": \"Small Cap\", \"sector\": \"Retail\", \"parentIsin\": \"INF174KA1S16\"}\n",
    "    ]\n",
    "    \n",
    "    fund_df = pd.DataFrame(data)\n",
    "    fund_df, embeddings = prepare_dataframe_and_embeddings(fund_df)\n",
    "    index = create_faiss_index(np.array(embeddings))\n",
    "\n",
    "    query = \"Technology sector Large Cap fund\"\n",
    "    results = search_funds(query, fund_df, index)\n",
    "\n",
    "    # Show ISINs and similarity scores\n",
    "    print(results[['parentIsin', 'score']])"
   ]
  },
  {
   "cell_type": "code",
   "execution_count": 295,
   "id": "f4956397-8e08-42c6-8600-69a71cf96db2",
   "metadata": {},
   "outputs": [],
   "source": [
    "import numpy as np\n",
    "import pandas as pd\n",
    "from sklearn.metrics import accuracy_score, confusion_matrix\n",
    "import seaborn as sns\n",
    "import matplotlib.pyplot as plt"
   ]
  },
  {
   "cell_type": "code",
   "execution_count": 297,
   "id": "c7433999-9e48-467f-b223-ca5d8c182ea8",
   "metadata": {},
   "outputs": [],
   "source": [
    "# Example: True and predicted labels\n",
    "y_true = ['Large Cap', 'Mid Cap', 'Small Cap', 'Large Cap', 'Mid Cap']\n",
    "y_pred = ['Large Cap', 'Small Cap', 'Small Cap', 'Large Cap', 'Mid Cap']"
   ]
  },
  {
   "cell_type": "code",
   "execution_count": 299,
   "id": "243db767-1add-4277-ae17-31d41c56619a",
   "metadata": {},
   "outputs": [
    {
     "name": "stdout",
     "output_type": "stream",
     "text": [
      "Accuracy Score: 0.80\n"
     ]
    }
   ],
   "source": [
    "acc = accuracy_score(y_true, y_pred)\n",
    "print(f\"Accuracy Score: {acc:.2f}\")"
   ]
  },
  {
   "cell_type": "code",
   "execution_count": 301,
   "id": "2ef4d179-3ff3-45db-885e-8e37c4fa9bbb",
   "metadata": {},
   "outputs": [
    {
     "name": "stdout",
     "output_type": "stream",
     "text": [
      "Confusion Matrix:\n",
      "[[1 0 0]\n",
      " [1 1 0]\n",
      " [0 0 2]]\n"
     ]
    }
   ],
   "source": [
    "labels = ['Small Cap', 'Mid Cap', 'Large Cap']  # Adjust labels as per your classes\n",
    "cm = confusion_matrix(y_true, y_pred, labels=labels)\n",
    "print(\"Confusion Matrix:\")\n",
    "print(cm)"
   ]
  },
  {
   "cell_type": "code",
   "execution_count": 303,
   "id": "378c1a4a-9b82-45a1-bcab-67d4362fd1ea",
   "metadata": {},
   "outputs": [
    {
     "data": {
      "image/png": "[encoded data removed]",
      "text/plain": [
       "<Figure size 600x400 with 2 Axes>"
      ]
     },
     "metadata": {},
     "output_type": "display_data"
    }
   ],
   "source": [
    "plt.figure(figsize=(6, 4))\n",
    "sns.heatmap(cm, annot=True, fmt='d', cmap='Blues', xticklabels=labels, yticklabels=labels)\n",
    "plt.xlabel(\"Predicted\")\n",
    "plt.ylabel(\"Actual\")\n",
    "plt.title(\"Confusion Matrix Heatmap\")\n",
    "plt.tight_layout()\n",
    "plt.show()"
   ]
  },
  {
   "cell_type": "markdown",
   "id": "0e1c284f-f44a-4216-ada9-b38a761c92a5",
   "metadata": {},
   "source": [
    "## THE MODEL DEVELOPMENT AND TRAINING WITH THE HELP OF SOLUTION DATSET PROVIDED"
   ]
  },
  {
   "cell_type": "code",
   "execution_count": 309,
   "id": "0ad1420c-73fe-4aca-9009-11cbd569214f",
   "metadata": {},
   "outputs": [],
   "source": [
    "import pandas as pd\n",
    "import numpy as np\n",
    "import matplotlib.pyplot as plt \n",
    "import seaborn as sns"
   ]
  },
  {
   "cell_type": "code",
   "execution_count": 321,
   "id": "f11c93b7-201d-419f-a288-06ad9e58df76",
   "metadata": {},
   "outputs": [
    {
     "data": {
      "text/html": [
       "<div>\n",
       "<style scoped>\n",
       "    .dataframe tbody tr th:only-of-type {\n",
       "        vertical-align: middle;\n",
       "    }\n",
       "\n",
       "    .dataframe tbody tr th {\n",
       "        vertical-align: top;\n",
       "    }\n",
       "\n",
       "    .dataframe thead th {\n",
       "        text-align: right;\n",
       "    }\n",
       "</style>\n",
       "<table border=\"1\" class=\"dataframe\">\n",
       "  <thead>\n",
       "    <tr style=\"text-align: right;\">\n",
       "      <th></th>\n",
       "      <th>query</th>\n",
       "      <th>security_name</th>\n",
       "    </tr>\n",
       "  </thead>\n",
       "  <tbody>\n",
       "    <tr>\n",
       "      <th>0</th>\n",
       "      <td>Is it beneficial to hold Union Overnight Fund ...</td>\n",
       "      <td>Union Overnight Fund</td>\n",
       "    </tr>\n",
       "    <tr>\n",
       "      <th>1</th>\n",
       "      <td>Is SBI Fixed Maturity Plan (FMP) - Series 78 (...</td>\n",
       "      <td>SBI Fixed Maturity Plan (FMP) - Series 78 (117...</td>\n",
       "    </tr>\n",
       "    <tr>\n",
       "      <th>2</th>\n",
       "      <td>What's the growth option NAV of UTI Money Mark...</td>\n",
       "      <td>UTI Money Market Fund</td>\n",
       "    </tr>\n",
       "    <tr>\n",
       "      <th>3</th>\n",
       "      <td>Can you provide details about the dividend opt...</td>\n",
       "      <td>ICICI Prudential Transportation and Logistics ...</td>\n",
       "    </tr>\n",
       "    <tr>\n",
       "      <th>4</th>\n",
       "      <td>What is the NAV of Motilal Oswal Nifty Microca...</td>\n",
       "      <td>Motilal Oswal Nifty Microcap 250 Index Fund</td>\n",
       "    </tr>\n",
       "    <tr>\n",
       "      <th>5</th>\n",
       "      <td>What's the performance of ICICI Prudential Tra...</td>\n",
       "      <td>ICICI Prudential Transportation and Logistics ...</td>\n",
       "    </tr>\n",
       "    <tr>\n",
       "      <th>6</th>\n",
       "      <td>Should I consider investing in SBI Fixed Matur...</td>\n",
       "      <td>SBI Fixed Maturity Plan (FMP) - Series 78 (117...</td>\n",
       "    </tr>\n",
       "    <tr>\n",
       "      <th>7</th>\n",
       "      <td>What was the return of Canara Robeco ELSS Tax ...</td>\n",
       "      <td>Canara Robeco ELSS Tax Saver</td>\n",
       "    </tr>\n",
       "    <tr>\n",
       "      <th>8</th>\n",
       "      <td>Is Kotak Focused Equity Fund better than other...</td>\n",
       "      <td>Kotak Focused Equity Fund</td>\n",
       "    </tr>\n",
       "    <tr>\n",
       "      <th>9</th>\n",
       "      <td>How is Kotak Bluechip Fund rated by AMFI?</td>\n",
       "      <td>Kotak Bluechip Fund</td>\n",
       "    </tr>\n",
       "  </tbody>\n",
       "</table>\n",
       "</div>"
      ],
      "text/plain": [
       "                                               query  \\\n",
       "0  Is it beneficial to hold Union Overnight Fund ...   \n",
       "1  Is SBI Fixed Maturity Plan (FMP) - Series 78 (...   \n",
       "2  What's the growth option NAV of UTI Money Mark...   \n",
       "3  Can you provide details about the dividend opt...   \n",
       "4  What is the NAV of Motilal Oswal Nifty Microca...   \n",
       "5  What's the performance of ICICI Prudential Tra...   \n",
       "6  Should I consider investing in SBI Fixed Matur...   \n",
       "7  What was the return of Canara Robeco ELSS Tax ...   \n",
       "8  Is Kotak Focused Equity Fund better than other...   \n",
       "9          How is Kotak Bluechip Fund rated by AMFI?   \n",
       "\n",
       "                                       security_name  \n",
       "0                               Union Overnight Fund  \n",
       "1  SBI Fixed Maturity Plan (FMP) - Series 78 (117...  \n",
       "2                              UTI Money Market Fund  \n",
       "3  ICICI Prudential Transportation and Logistics ...  \n",
       "4        Motilal Oswal Nifty Microcap 250 Index Fund  \n",
       "5  ICICI Prudential Transportation and Logistics ...  \n",
       "6  SBI Fixed Maturity Plan (FMP) - Series 78 (117...  \n",
       "7                       Canara Robeco ELSS Tax Saver  \n",
       "8                          Kotak Focused Equity Fund  \n",
       "9                                Kotak Bluechip Fund  "
      ]
     },
     "execution_count": 321,
     "metadata": {},
     "output_type": "execute_result"
    }
   ],
   "source": [
    "data = pd.read_csv(\"Dataset Queries-Securities for Model Creation.csv\")\n",
    "data.head(10)"
   ]
  },
  {
   "cell_type": "code",
   "execution_count": 327,
   "id": "a2dd4bb3-f896-4f80-bf27-e724417a4b54",
   "metadata": {},
   "outputs": [],
   "source": [
    "from rapidfuzz import fuzz\n",
    "import re\n",
    "def normalize(text):\n",
    "    text = text.lower()\n",
    "    text = re.sub(r\"[^a-zA-Z0-9\\s]\", \"\", text)\n",
    "    return text.strip()"
   ]
  },
  {
   "cell_type": "code",
   "execution_count": 333,
   "id": "bda1abd0-6720-40dd-96d2-2663d6318fdd",
   "metadata": {},
   "outputs": [],
   "source": [
    "from sentence_transformers import SentenceTransformer\n",
    "\n",
    "# Load the model\n",
    "model = SentenceTransformer('sentence-transformers/all-MiniLM-L6-v2')\n",
    "\n",
    "# Define your query\n",
    "user_query = \"icici infra\"\n",
    "\n",
    "# Optional: normalize the query (define normalize function if needed)\n",
    "def normalize(text):\n",
    "    return text.lower().strip()\n",
    "\n",
    "# Encode the query\n",
    "query_embedding = model.encode(normalize(user_query), convert_to_tensor=True)"
   ]
  },
  {
   "cell_type": "code",
   "execution_count": 1,
   "id": "378928ef-f453-4d96-866d-53aa490c0b34",
   "metadata": {},
   "outputs": [
    {
     "name": "stdin",
     "output_type": "stream",
     "text": [
      "Enter your query:  Is it beneficial to hold Union Overnight Fund ...\n"
     ]
    },
    {
     "name": "stdout",
     "output_type": "stream",
     "text": [
      "✅ Match Found: Union Overnight Fund (Score: 0.8354)\n"
     ]
    }
   ],
   "source": [
    "from sentence_transformers import SentenceTransformer, util\n",
    "import torch\n",
    "import pandas as pd\n",
    "\n",
    "# Sample data — replace this with your real DataFrame\n",
    "data = pd.DataFrame({\n",
    "    \"security_name\": [\n",
    "        \"ICICI Prudential Transportation and Logistics Fund\",\n",
    "        \"Motilal Oswal Nifty Microcap 250 Index Fund\",\n",
    "        \"SBI Fixed Maturity Plan (FMP) - Series 78 (1179 Days)\",\n",
    "        \"Union Overnight Fund\",\n",
    "        \"Canara Robeco ELSS Tax Saver\",\n",
    "        \"Tata BSE Select Business Groups Index Fund\",\n",
    "        \"Groww Nifty EV & New Age Automotive ETF FOF\"\n",
    "    ]\n",
    "})\n",
    "\n",
    "# Normalize text (optional but recommended)\n",
    "def normalize(text):\n",
    "    return text.lower().strip()\n",
    "\n",
    "# Load model\n",
    "model = SentenceTransformer('sentence-transformers/all-MiniLM-L6-v2')\n",
    "\n",
    "# Encode all security names in the dataset\n",
    "security_names = data['security_name'].tolist()\n",
    "normalized_names = [normalize(name) for name in security_names]\n",
    "security_embeddings = model.encode(normalized_names, convert_to_tensor=True)\n",
    "\n",
    "# Matching function\n",
    "def match_query(user_query, threshold=0.6):\n",
    "    query_embedding = model.encode(normalize(user_query), convert_to_tensor=True)\n",
    "    cosine_scores = util.cos_sim(query_embedding, security_embeddings)[0]\n",
    "    \n",
    "    top_score, top_idx = torch.max(cosine_scores, dim=0)\n",
    "    top_score_val = top_score.item()\n",
    "    \n",
    "    if top_score_val >= threshold:\n",
    "        return f\"✅ Match Found: {security_names[top_idx]} (Score: {top_score_val:.4f})\"\n",
    "    else:\n",
    "        return f\"❌ No confident match. Best guess: {security_names[top_idx]} (Score: {top_score_val:.4f})\"\n",
    "\n",
    "# Example usage\n",
    "user_query = input(\"Enter your query: \")\n",
    "print(match_query(user_query))"
   ]
  },
  {
   "cell_type": "code",
   "execution_count": null,
   "id": "02815689-676a-4534-a571-e1cc79e23ad9",
   "metadata": {},
   "outputs": [],
   "source": []
  }
 ],
 "metadata": {
  "kernelspec": {
   "display_name": "Python [conda env:base] *",
   "language": "python",
   "name": "conda-base-py"
  },
  "language_info": {
   "codemirror_mode": {
    "name": "ipython",
    "version": 3
   },
   "file_extension": ".py",
   "mimetype": "text/x-python",
   "name": "python",
   "nbconvert_exporter": "python",
   "pygments_lexer": "ipython3",
   "version": "3.12.7"
  }
 },
 "nbformat": 4,
 "nbformat_minor": 5
}
